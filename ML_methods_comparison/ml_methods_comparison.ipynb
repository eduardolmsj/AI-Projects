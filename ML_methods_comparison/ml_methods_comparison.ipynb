{
  "nbformat": 4,
  "nbformat_minor": 0,
  "metadata": {
    "colab": {
      "provenance": [],
      "collapsed_sections": [
        "GCkwL7zFoXud",
        "Uc6e-arE-ybe",
        "jZttmDuYyv3S",
        "AjZ_UZFXoKke",
        "H3S0PHxbx1g7",
        "ZIPb6nrRyFPl",
        "LMHDg0N2yKeF",
        "OT54HtVzyPWg",
        "l1VRPGntyTNN",
        "fMcgJA0SyXDX",
        "AWDrMzihyb6X",
        "d1_7SjKwyfud",
        "4zXu5eWztWkm"
      ],
      "toc_visible": true
    },
    "kernelspec": {
      "name": "python3",
      "display_name": "Python 3"
    },
    "language_info": {
      "name": "python"
    }
  },
  "cells": [
    {
      "cell_type": "markdown",
      "source": [
        "# Comentários e estrutura do projeto"
      ],
      "metadata": {
        "id": "btCV6P3-8dZi"
      }
    },
    {
      "cell_type": "markdown",
      "source": [
        "O notebook está dividido em seções com seus respectivos comentários. \\\\\n",
        "Segue então: \\\\\n",
        " 'Bibiliotecas utilizadas' junto as suas principais funções. \\\\\n",
        " 'Variação dos Hiperparametros' -> Para a escolha das melhores configuraçoes para cada algoritmo \\\\\n",
        " 'Comparação' -> Realização da diferença absoluta para os dois melhores algoritmos  \\\\\n",
        "\n",
        " 'Variação dos Hiperparametros' \\\\\n"
      ],
      "metadata": {
        "id": "4IZu-x1l8mx4"
      }
    },
    {
      "cell_type": "markdown",
      "source": [
        "# Bibliotecas utilizadas"
      ],
      "metadata": {
        "id": "GCkwL7zFoXud"
      }
    },
    {
      "cell_type": "code",
      "metadata": {
        "id": "pxeNquxKPpSM",
        "colab": {
          "base_uri": "https://localhost:8080/"
        },
        "outputId": "aa713f02-5036-45f4-edfe-0de3aedb6a47"
      },
      "source": [
        "!pip install imblearn\n",
        "import pandas as pd\n",
        "import numpy as np\n",
        "import matplotlib.pyplot as plt\n",
        "import seaborn as sns\n",
        "\n",
        "# Classifier Libraries\n",
        "from sklearn.neighbors import KNeighborsClassifier\n",
        "from sklearn.tree import DecisionTreeClassifier\n",
        "from sklearn.neural_network import MLPClassifier\n",
        "from sklearn.naive_bayes import GaussianNB\n",
        "from sklearn.ensemble import RandomForestClassifier\n",
        "#Configuracoes de hiperparametros\n",
        "from sklearn.model_selection import GridSearchCV\n",
        "\n",
        "from sklearn.model_selection import cross_val_score\n",
        "from sklearn.metrics import mean_squared_error, mean_absolute_error\n",
        "from mlxtend.plotting import plot_decision_regions\n",
        "import collections\n",
        "\n",
        "MLP_classifier = MLPClassifier(random_state=1, max_iter=300)\n",
        "knn_classifier = KNeighborsClassifier(n_neighbors=10)\n",
        "tree_classifier = DecisionTreeClassifier()\n",
        "NVB_classifier = GaussianNB()\n",
        "\n",
        "\n",
        "from sklearn.datasets import make_classification\n",
        "\n",
        "from sklearn.model_selection import train_test_split\n",
        "\n",
        "#Tratamento de dados desbalanceados Oversampling e Undersampling\n",
        "from imblearn.over_sampling import SMOTE\n",
        "SMT= SMOTE()\n",
        "\n",
        "from imblearn.under_sampling import NearMiss\n",
        "NS = NearMiss()\n",
        "\n",
        "from imblearn.metrics import classification_report_imbalanced\n",
        "from sklearn.metrics import precision_score, recall_score, f1_score, roc_auc_score, accuracy_score, classification_report\n",
        "from collections import Counter\n",
        "from sklearn.model_selection import KFold, StratifiedKFold\n",
        "import warnings\n",
        "warnings.filterwarnings(\"ignore\")\n",
        "\n",
        "#Scalling dos dados\n",
        "from sklearn.preprocessing import StandardScaler, RobustScaler\n",
        "\n",
        "std_scaler = StandardScaler()\n",
        "rob_scaler = RobustScaler()\n",
        "\n",
        "from sklearn.utils import shuffle\n"
      ],
      "execution_count": null,
      "outputs": [
        {
          "output_type": "stream",
          "name": "stdout",
          "text": [
            "Looking in indexes: https://pypi.org/simple, https://us-python.pkg.dev/colab-wheels/public/simple/\n",
            "Requirement already satisfied: imblearn in /usr/local/lib/python3.7/dist-packages (0.0)\n",
            "Requirement already satisfied: imbalanced-learn in /usr/local/lib/python3.7/dist-packages (from imblearn) (0.8.1)\n",
            "Requirement already satisfied: scikit-learn>=0.24 in /usr/local/lib/python3.7/dist-packages (from imbalanced-learn->imblearn) (1.0.2)\n",
            "Requirement already satisfied: joblib>=0.11 in /usr/local/lib/python3.7/dist-packages (from imbalanced-learn->imblearn) (1.1.0)\n",
            "Requirement already satisfied: numpy>=1.13.3 in /usr/local/lib/python3.7/dist-packages (from imbalanced-learn->imblearn) (1.21.6)\n",
            "Requirement already satisfied: scipy>=0.19.1 in /usr/local/lib/python3.7/dist-packages (from imbalanced-learn->imblearn) (1.4.1)\n",
            "Requirement already satisfied: threadpoolctl>=2.0.0 in /usr/local/lib/python3.7/dist-packages (from scikit-learn>=0.24->imbalanced-learn->imblearn) (3.1.0)\n"
          ]
        }
      ]
    },
    {
      "cell_type": "code",
      "source": [
        "from google.colab import drive\n",
        "drive.mount('/content/drive')"
      ],
      "metadata": {
        "id": "58WugGrqkXMI",
        "colab": {
          "base_uri": "https://localhost:8080/"
        },
        "outputId": "6f2ad39f-4108-4be9-b092-cccf8794cbfc"
      },
      "execution_count": null,
      "outputs": [
        {
          "output_type": "stream",
          "name": "stdout",
          "text": [
            "Drive already mounted at /content/drive; to attempt to forcibly remount, call drive.mount(\"/content/drive\", force_remount=True).\n"
          ]
        }
      ]
    },
    {
      "cell_type": "markdown",
      "source": [
        "# Variação de hiperparametros\n"
      ],
      "metadata": {
        "id": "Uc6e-arE-ybe"
      }
    },
    {
      "cell_type": "code",
      "source": [
        "def hiperparametros(X,y):\n",
        "  #KNN\n",
        "  Hiperparameters_knn= {'n_neighbors' : [1,5,10,13,15]}\n",
        "  KNN=KNeighborsClassifier()\n",
        "  #Crossvalidation com variação de parametros\n",
        "  Gs_knn= GridSearchCV(KNN, Hiperparameters_knn, cv=10, scoring='accuracy')\n",
        "  Gs_knn.fit(X,y)\n",
        "\n",
        "  #Criação da tabela\n",
        "  R_knn=pd.DataFrame(Gs_knn.cv_results_)\n",
        "  view = ['params','mean_test_score','std_test_score','rank_test_score']\n",
        "  R_knn[view].sort_values(by='rank_test_score')\n",
        "\n",
        "  #MLP\n",
        "  Hiperparameters_mlp= {'hidden_layer_sizes' : [(10),(20),(30),(150)],\n",
        "\t\t   'max_iter': [200], 'random_state':[30]}\n",
        "  MLP=MLPClassifier()\n",
        "  Gs_mlp= GridSearchCV(MLP, Hiperparameters_mlp, cv=10, scoring='accuracy')\n",
        "  Gs_mlp.fit(X,y)\n",
        "\n",
        "   #Criação da tabela\n",
        "  R_mlp=pd.DataFrame(Gs_mlp.cv_results_)\n",
        "  view = ['params','mean_test_score','std_test_score','rank_test_score']\n",
        "  R_mlp[view].sort_values(by='rank_test_score')\n",
        "\n",
        "  #Decision Tree\n",
        "  Hiperparameters_DT= {'criterion' : [('gini'),('entropy')],\n",
        "\t\t   'max_depth': [(10), (20)]  }\n",
        "  DT= DecisionTreeClassifier()\n",
        "  Gs_DT= GridSearchCV(DT, Hiperparameters_DT, cv=10, scoring='accuracy')\n",
        "  Gs_DT.fit(X1,y1)\n",
        "\n",
        "   #Criação da tabela\n",
        "  R_DT=pd.DataFrame(Gs_DT.cv_results_)\n",
        "  view = ['params','mean_test_score','std_test_score','rank_test_score']\n",
        "  R_DT[view].sort_values(by='rank_test_score')\n",
        "\n",
        "  return [R_knn[view], R_mlp[view], R_DT[view]]\n"
      ],
      "metadata": {
        "id": "rky15uAjFuXE"
      },
      "execution_count": null,
      "outputs": []
    },
    {
      "cell_type": "markdown",
      "source": [
        "# Comparação"
      ],
      "metadata": {
        "id": "jZttmDuYyv3S"
      }
    },
    {
      "cell_type": "markdown",
      "source": [
        "função que retorna a média do score para cada método, a média dos erros e seus desvios padrão"
      ],
      "metadata": {
        "id": "zHunJv5ZW-bK"
      }
    },
    {
      "cell_type": "code",
      "source": [
        "def ai_method_compare(X,y,crit,md,nviz,miter,hdl):\n",
        "\n",
        "  #Instanciando os metodos com os hiperparametros definidos\n",
        "  tree_classifier = DecisionTreeClassifier(criterion=crit, max_depth=md)\n",
        "\n",
        "  knn_classifier = KNeighborsClassifier(n_neighbors=nviz)\n",
        "\n",
        "  MLP_classifier = MLPClassifier(random_state=30, max_iter=miter, hidden_layer_sizes=hdl)\n",
        "\n",
        "  NVB_classifier = GaussianNB()\n",
        "\n",
        "  #Calculo do erro para cada particao da cross validation\n",
        "  score_tree = cross_val_score(tree_classifier, X, y, cv=10)\n",
        "  erro_tree = [1,1,1,1,1,1,1,1,1,1] - score_tree\n",
        "\n",
        "  #Calculo da media e do desvio padrao para calculo posterior da diferencao absoluta\n",
        "  m_score_tree =  erro_tree.mean()\n",
        "  dp_score_tree = np.std(erro_tree)\n",
        "\n",
        "  score_knn = cross_val_score(knn_classifier, X, y, cv=10)\n",
        "  erro_knn = [1,1,1,1,1,1,1,1,1,1] - score_knn\n",
        "\n",
        "  m_score_knn =  erro_knn.mean()\n",
        "  dp_score_knn = np.std(erro_knn)\n",
        "\n",
        "  score_mlp = cross_val_score(MLP_classifier, X, y, cv=10)\n",
        "  erro_mlp = [1,1,1,1,1,1,1,1,1,1] - score_mlp\n",
        "\n",
        "  m_score_mlp =  erro_mlp.mean()\n",
        "  dp_score_mlp = np.std(erro_mlp)\n",
        "\n",
        "  score_nvb = cross_val_score(NVB_classifier, X, y, cv=10)\n",
        "  erro_nvb = [1,1,1,1,1,1,1,1,1,1] - score_nvb\n",
        "\n",
        "  m_score_nvb =  erro_nvb.mean()\n",
        "  dp_score_nvb = np.std(erro_nvb)\n",
        "\n",
        "  print(\"arvore: \"+str(score_tree.mean()*100)+\"%, knn: \" +str(score_knn.mean()*100)+\"%, mlp: \"+str(score_mlp.mean()*100)+\"%, naive bayes: \"+str(score_nvb.mean()*100)+\"%\")\n",
        "\n",
        "\n",
        "  return [score_tree.mean()*100, score_knn.mean()*100, score_mlp.mean()*100, score_nvb.mean()*100],[m_score_tree,  m_score_knn,  m_score_mlp,m_score_nvb],[dp_score_tree,dp_score_knn,dp_score_mlp,dp_score_nvb]"
      ],
      "metadata": {
        "id": "KmKheO-g4BpZ"
      },
      "execution_count": null,
      "outputs": []
    },
    {
      "cell_type": "markdown",
      "source": [
        "calculo da diferença absoluta"
      ],
      "metadata": {
        "id": "oogthN6rXKza"
      }
    },
    {
      "cell_type": "code",
      "source": [
        "def dif_abs(mean1,std1,mean2,std2):\n",
        "  media = mean1-mean2\n",
        "  dp = np.sqrt((std1**2+std2**2)/2)\n",
        "  return media/dp"
      ],
      "metadata": {
        "id": "GmzWmNukE4fG"
      },
      "execution_count": null,
      "outputs": []
    },
    {
      "cell_type": "markdown",
      "source": [
        "#Dataset1"
      ],
      "metadata": {
        "id": "AjZ_UZFXoKke"
      }
    },
    {
      "cell_type": "markdown",
      "source": [
        "Iris -> 'Importando e descrevendo atráves da DataFrame as principais features do Dataset'"
      ],
      "metadata": {
        "id": "_y007vbxujmS"
      }
    },
    {
      "cell_type": "code",
      "source": [
        "from sklearn.datasets import load_iris\n",
        "iris = load_iris()\n",
        "\n",
        "data1 = pd.DataFrame(iris.data, columns=iris.feature_names)\n",
        "\n",
        "data1['target'] = iris.target\n",
        "\n",
        "X1 = data1.drop('target', axis = 1)\n",
        "y1 = data1['target']\n",
        "\n",
        "data1\n"
      ],
      "metadata": {
        "id": "va1N4XOXCGYA",
        "colab": {
          "base_uri": "https://localhost:8080/",
          "height": 424
        },
        "outputId": "a89852aa-ef37-47dd-d74d-4b73155283b3"
      },
      "execution_count": null,
      "outputs": [
        {
          "output_type": "execute_result",
          "data": {
            "text/plain": [
              "     sepal length (cm)  sepal width (cm)  petal length (cm)  petal width (cm)  \\\n",
              "0                  5.1               3.5                1.4               0.2   \n",
              "1                  4.9               3.0                1.4               0.2   \n",
              "2                  4.7               3.2                1.3               0.2   \n",
              "3                  4.6               3.1                1.5               0.2   \n",
              "4                  5.0               3.6                1.4               0.2   \n",
              "..                 ...               ...                ...               ...   \n",
              "145                6.7               3.0                5.2               2.3   \n",
              "146                6.3               2.5                5.0               1.9   \n",
              "147                6.5               3.0                5.2               2.0   \n",
              "148                6.2               3.4                5.4               2.3   \n",
              "149                5.9               3.0                5.1               1.8   \n",
              "\n",
              "     target  \n",
              "0         0  \n",
              "1         0  \n",
              "2         0  \n",
              "3         0  \n",
              "4         0  \n",
              "..      ...  \n",
              "145       2  \n",
              "146       2  \n",
              "147       2  \n",
              "148       2  \n",
              "149       2  \n",
              "\n",
              "[150 rows x 5 columns]"
            ],
            "text/html": [
              "\n",
              "  <div id=\"df-85bb2176-142a-49b8-ba88-9fea1d82b8cc\">\n",
              "    <div class=\"colab-df-container\">\n",
              "      <div>\n",
              "<style scoped>\n",
              "    .dataframe tbody tr th:only-of-type {\n",
              "        vertical-align: middle;\n",
              "    }\n",
              "\n",
              "    .dataframe tbody tr th {\n",
              "        vertical-align: top;\n",
              "    }\n",
              "\n",
              "    .dataframe thead th {\n",
              "        text-align: right;\n",
              "    }\n",
              "</style>\n",
              "<table border=\"1\" class=\"dataframe\">\n",
              "  <thead>\n",
              "    <tr style=\"text-align: right;\">\n",
              "      <th></th>\n",
              "      <th>sepal length (cm)</th>\n",
              "      <th>sepal width (cm)</th>\n",
              "      <th>petal length (cm)</th>\n",
              "      <th>petal width (cm)</th>\n",
              "      <th>target</th>\n",
              "    </tr>\n",
              "  </thead>\n",
              "  <tbody>\n",
              "    <tr>\n",
              "      <th>0</th>\n",
              "      <td>5.1</td>\n",
              "      <td>3.5</td>\n",
              "      <td>1.4</td>\n",
              "      <td>0.2</td>\n",
              "      <td>0</td>\n",
              "    </tr>\n",
              "    <tr>\n",
              "      <th>1</th>\n",
              "      <td>4.9</td>\n",
              "      <td>3.0</td>\n",
              "      <td>1.4</td>\n",
              "      <td>0.2</td>\n",
              "      <td>0</td>\n",
              "    </tr>\n",
              "    <tr>\n",
              "      <th>2</th>\n",
              "      <td>4.7</td>\n",
              "      <td>3.2</td>\n",
              "      <td>1.3</td>\n",
              "      <td>0.2</td>\n",
              "      <td>0</td>\n",
              "    </tr>\n",
              "    <tr>\n",
              "      <th>3</th>\n",
              "      <td>4.6</td>\n",
              "      <td>3.1</td>\n",
              "      <td>1.5</td>\n",
              "      <td>0.2</td>\n",
              "      <td>0</td>\n",
              "    </tr>\n",
              "    <tr>\n",
              "      <th>4</th>\n",
              "      <td>5.0</td>\n",
              "      <td>3.6</td>\n",
              "      <td>1.4</td>\n",
              "      <td>0.2</td>\n",
              "      <td>0</td>\n",
              "    </tr>\n",
              "    <tr>\n",
              "      <th>...</th>\n",
              "      <td>...</td>\n",
              "      <td>...</td>\n",
              "      <td>...</td>\n",
              "      <td>...</td>\n",
              "      <td>...</td>\n",
              "    </tr>\n",
              "    <tr>\n",
              "      <th>145</th>\n",
              "      <td>6.7</td>\n",
              "      <td>3.0</td>\n",
              "      <td>5.2</td>\n",
              "      <td>2.3</td>\n",
              "      <td>2</td>\n",
              "    </tr>\n",
              "    <tr>\n",
              "      <th>146</th>\n",
              "      <td>6.3</td>\n",
              "      <td>2.5</td>\n",
              "      <td>5.0</td>\n",
              "      <td>1.9</td>\n",
              "      <td>2</td>\n",
              "    </tr>\n",
              "    <tr>\n",
              "      <th>147</th>\n",
              "      <td>6.5</td>\n",
              "      <td>3.0</td>\n",
              "      <td>5.2</td>\n",
              "      <td>2.0</td>\n",
              "      <td>2</td>\n",
              "    </tr>\n",
              "    <tr>\n",
              "      <th>148</th>\n",
              "      <td>6.2</td>\n",
              "      <td>3.4</td>\n",
              "      <td>5.4</td>\n",
              "      <td>2.3</td>\n",
              "      <td>2</td>\n",
              "    </tr>\n",
              "    <tr>\n",
              "      <th>149</th>\n",
              "      <td>5.9</td>\n",
              "      <td>3.0</td>\n",
              "      <td>5.1</td>\n",
              "      <td>1.8</td>\n",
              "      <td>2</td>\n",
              "    </tr>\n",
              "  </tbody>\n",
              "</table>\n",
              "<p>150 rows × 5 columns</p>\n",
              "</div>\n",
              "      <button class=\"colab-df-convert\" onclick=\"convertToInteractive('df-85bb2176-142a-49b8-ba88-9fea1d82b8cc')\"\n",
              "              title=\"Convert this dataframe to an interactive table.\"\n",
              "              style=\"display:none;\">\n",
              "        \n",
              "  <svg xmlns=\"http://www.w3.org/2000/svg\" height=\"24px\"viewBox=\"0 0 24 24\"\n",
              "       width=\"24px\">\n",
              "    <path d=\"M0 0h24v24H0V0z\" fill=\"none\"/>\n",
              "    <path d=\"M18.56 5.44l.94 2.06.94-2.06 2.06-.94-2.06-.94-.94-2.06-.94 2.06-2.06.94zm-11 1L8.5 8.5l.94-2.06 2.06-.94-2.06-.94L8.5 2.5l-.94 2.06-2.06.94zm10 10l.94 2.06.94-2.06 2.06-.94-2.06-.94-.94-2.06-.94 2.06-2.06.94z\"/><path d=\"M17.41 7.96l-1.37-1.37c-.4-.4-.92-.59-1.43-.59-.52 0-1.04.2-1.43.59L10.3 9.45l-7.72 7.72c-.78.78-.78 2.05 0 2.83L4 21.41c.39.39.9.59 1.41.59.51 0 1.02-.2 1.41-.59l7.78-7.78 2.81-2.81c.8-.78.8-2.07 0-2.86zM5.41 20L4 18.59l7.72-7.72 1.47 1.35L5.41 20z\"/>\n",
              "  </svg>\n",
              "      </button>\n",
              "      \n",
              "  <style>\n",
              "    .colab-df-container {\n",
              "      display:flex;\n",
              "      flex-wrap:wrap;\n",
              "      gap: 12px;\n",
              "    }\n",
              "\n",
              "    .colab-df-convert {\n",
              "      background-color: #E8F0FE;\n",
              "      border: none;\n",
              "      border-radius: 50%;\n",
              "      cursor: pointer;\n",
              "      display: none;\n",
              "      fill: #1967D2;\n",
              "      height: 32px;\n",
              "      padding: 0 0 0 0;\n",
              "      width: 32px;\n",
              "    }\n",
              "\n",
              "    .colab-df-convert:hover {\n",
              "      background-color: #E2EBFA;\n",
              "      box-shadow: 0px 1px 2px rgba(60, 64, 67, 0.3), 0px 1px 3px 1px rgba(60, 64, 67, 0.15);\n",
              "      fill: #174EA6;\n",
              "    }\n",
              "\n",
              "    [theme=dark] .colab-df-convert {\n",
              "      background-color: #3B4455;\n",
              "      fill: #D2E3FC;\n",
              "    }\n",
              "\n",
              "    [theme=dark] .colab-df-convert:hover {\n",
              "      background-color: #434B5C;\n",
              "      box-shadow: 0px 1px 3px 1px rgba(0, 0, 0, 0.15);\n",
              "      filter: drop-shadow(0px 1px 2px rgba(0, 0, 0, 0.3));\n",
              "      fill: #FFFFFF;\n",
              "    }\n",
              "  </style>\n",
              "\n",
              "      <script>\n",
              "        const buttonEl =\n",
              "          document.querySelector('#df-85bb2176-142a-49b8-ba88-9fea1d82b8cc button.colab-df-convert');\n",
              "        buttonEl.style.display =\n",
              "          google.colab.kernel.accessAllowed ? 'block' : 'none';\n",
              "\n",
              "        async function convertToInteractive(key) {\n",
              "          const element = document.querySelector('#df-85bb2176-142a-49b8-ba88-9fea1d82b8cc');\n",
              "          const dataTable =\n",
              "            await google.colab.kernel.invokeFunction('convertToInteractive',\n",
              "                                                     [key], {});\n",
              "          if (!dataTable) return;\n",
              "\n",
              "          const docLinkHtml = 'Like what you see? Visit the ' +\n",
              "            '<a target=\"_blank\" href=https://colab.research.google.com/notebooks/data_table.ipynb>data table notebook</a>'\n",
              "            + ' to learn more about interactive tables.';\n",
              "          element.innerHTML = '';\n",
              "          dataTable['output_type'] = 'display_data';\n",
              "          await google.colab.output.renderOutput(dataTable, element);\n",
              "          const docLink = document.createElement('div');\n",
              "          docLink.innerHTML = docLinkHtml;\n",
              "          element.appendChild(docLink);\n",
              "        }\n",
              "      </script>\n",
              "    </div>\n",
              "  </div>\n",
              "  "
            ]
          },
          "metadata": {},
          "execution_count": 96
        }
      ]
    },
    {
      "cell_type": "markdown",
      "source": [
        "Escolha dos melhores hiperparametros"
      ],
      "metadata": {
        "id": "hqGAjNUiISo7"
      }
    },
    {
      "cell_type": "code",
      "source": [
        "hiperparametros(X1,y1)"
      ],
      "metadata": {
        "colab": {
          "base_uri": "https://localhost:8080/"
        },
        "id": "XYx5HgktH_aC",
        "outputId": "741a77bb-89b9-4da1-ccdf-70a9f03544ad"
      },
      "execution_count": null,
      "outputs": [
        {
          "output_type": "execute_result",
          "data": {
            "text/plain": [
              "[                params  mean_test_score  std_test_score  rank_test_score\n",
              " 0   {'n_neighbors': 1}         0.960000        0.053333                5\n",
              " 1   {'n_neighbors': 5}         0.966667        0.044721                3\n",
              " 2  {'n_neighbors': 10}         0.966667        0.044721                3\n",
              " 3  {'n_neighbors': 13}         0.980000        0.030551                1\n",
              " 4  {'n_neighbors': 15}         0.973333        0.032660                2,\n",
              "                                               params  mean_test_score  \\\n",
              " 0  {'hidden_layer_sizes': 10, 'max_iter': 200, 'r...         0.840000   \n",
              " 1  {'hidden_layer_sizes': 20, 'max_iter': 200, 'r...         0.666667   \n",
              " 2  {'hidden_layer_sizes': 30, 'max_iter': 200, 'r...         0.953333   \n",
              " 3  {'hidden_layer_sizes': 150, 'max_iter': 200, '...         0.973333   \n",
              " \n",
              "    std_test_score  rank_test_score  \n",
              " 0        0.067987                3  \n",
              " 1        0.051640                4  \n",
              " 2        0.042687                2  \n",
              " 3        0.044222                1  ,\n",
              "                                       params  mean_test_score  std_test_score  \\\n",
              " 0     {'criterion': 'gini', 'max_depth': 10}         0.953333        0.042687   \n",
              " 1     {'criterion': 'gini', 'max_depth': 20}         0.953333        0.042687   \n",
              " 2  {'criterion': 'entropy', 'max_depth': 10}         0.953333        0.042687   \n",
              " 3  {'criterion': 'entropy', 'max_depth': 20}         0.953333        0.042687   \n",
              " \n",
              "    rank_test_score  \n",
              " 0                1  \n",
              " 1                1  \n",
              " 2                1  \n",
              " 3                1  ]"
            ]
          },
          "metadata": {},
          "execution_count": 97
        }
      ]
    },
    {
      "cell_type": "markdown",
      "source": [
        "Comparacao dos metodos\n",
        "\n"
      ],
      "metadata": {
        "id": "teUWLd6SIhO6"
      }
    },
    {
      "cell_type": "code",
      "source": [
        "score1,mean1,std1 = ai_method_compare(X1,y1,'gini',10,15,200,150)"
      ],
      "metadata": {
        "colab": {
          "base_uri": "https://localhost:8080/"
        },
        "id": "9YHeT_Cp-O55",
        "outputId": "0cc23d01-8d37-4a71-ebec-221256a8a81e"
      },
      "execution_count": null,
      "outputs": [
        {
          "output_type": "stream",
          "name": "stdout",
          "text": [
            "arvore: 96.0%, knn: 97.33333333333334%, mlp: 97.33333333333334%, naive bayes: 95.33333333333334%\n"
          ]
        }
      ]
    },
    {
      "cell_type": "markdown",
      "source": [
        "Decision Tree"
      ],
      "metadata": {
        "id": "9OSZjxZZuuEw"
      }
    },
    {
      "cell_type": "code",
      "source": [
        "tree_classifier = DecisionTreeClassifier()\n",
        "scores = 1 * cross_val_score(tree_classifier, X1, y1, cv=10)\n",
        "\n",
        "a = scores.mean()*100\n",
        "print(\"score: \"+str(a)+\"%\")\n"
      ],
      "metadata": {
        "id": "vciZK1Wkrtkn",
        "colab": {
          "base_uri": "https://localhost:8080/"
        },
        "outputId": "aa8c7aee-bb9c-40d9-ee85-8fb0f4e915fa"
      },
      "execution_count": null,
      "outputs": [
        {
          "output_type": "stream",
          "name": "stdout",
          "text": [
            "score: 96.0%\n"
          ]
        }
      ]
    },
    {
      "cell_type": "markdown",
      "source": [
        "Exemplo grafico da arvore de decisao mostrando os hiperparamateros como indice de gini, profundidade ...\n",
        "\n"
      ],
      "metadata": {
        "id": "VdfthejfvAXO"
      }
    },
    {
      "cell_type": "code",
      "source": [
        "from sklearn.model_selection import train_test_split\n",
        "X_train, X_test, y_train, y_test = train_test_split(X1, y1, test_size = 0.1)\n",
        "tree_classifier.fit(X_train, y_train)\n",
        "from sklearn import tree\n",
        "dot_data = tree.export_graphviz(tree_classifier, out_file=None,\n",
        "                                feature_names=iris.feature_names,\n",
        "                                class_names=['0','1','2'],\n",
        "                                filled=True)\n",
        "# Draw graph\n",
        "import graphviz\n",
        "graph = graphviz.Source(dot_data, format=\"png\")\n",
        "graph\n"
      ],
      "metadata": {
        "id": "ZxaO31s8r9Xp",
        "colab": {
          "base_uri": "https://localhost:8080/",
          "height": 916
        },
        "outputId": "d7193633-dcf5-4c8f-f3b0-6b5229808afa"
      },
      "execution_count": null,
      "outputs": [
        {
          "output_type": "execute_result",
          "data": {
            "text/plain": [
              "<graphviz.files.Source at 0x7f94ea4eac90>"
            ],
            "image/svg+xml": "<?xml version=\"1.0\" encoding=\"UTF-8\" standalone=\"no\"?>\n<!DOCTYPE svg PUBLIC \"-//W3C//DTD SVG 1.1//EN\"\n \"http://www.w3.org/Graphics/SVG/1.1/DTD/svg11.dtd\">\n<!-- Generated by graphviz version 2.40.1 (20161225.0304)\n -->\n<!-- Title: Tree Pages: 1 -->\n<svg width=\"647pt\" height=\"671pt\"\n viewBox=\"0.00 0.00 647.00 671.00\" xmlns=\"http://www.w3.org/2000/svg\" xmlns:xlink=\"http://www.w3.org/1999/xlink\">\n<g id=\"graph0\" class=\"graph\" transform=\"scale(1 1) rotate(0) translate(4 667)\">\n<title>Tree</title>\n<polygon fill=\"#ffffff\" stroke=\"transparent\" points=\"-4,4 -4,-667 643,-667 643,4 -4,4\"/>\n<!-- 0 -->\n<g id=\"node1\" class=\"node\">\n<title>0</title>\n<polygon fill=\"#fefdff\" stroke=\"#000000\" points=\"324.5,-663 148.5,-663 148.5,-580 324.5,-580 324.5,-663\"/>\n<text text-anchor=\"middle\" x=\"236.5\" y=\"-647.8\" font-family=\"Helvetica,sans-Serif\" font-size=\"14.00\" fill=\"#000000\">petal length (cm) &lt;= 2.45</text>\n<text text-anchor=\"middle\" x=\"236.5\" y=\"-632.8\" font-family=\"Helvetica,sans-Serif\" font-size=\"14.00\" fill=\"#000000\">gini = 0.667</text>\n<text text-anchor=\"middle\" x=\"236.5\" y=\"-617.8\" font-family=\"Helvetica,sans-Serif\" font-size=\"14.00\" fill=\"#000000\">samples = 135</text>\n<text text-anchor=\"middle\" x=\"236.5\" y=\"-602.8\" font-family=\"Helvetica,sans-Serif\" font-size=\"14.00\" fill=\"#000000\">value = [45, 44, 46]</text>\n<text text-anchor=\"middle\" x=\"236.5\" y=\"-587.8\" font-family=\"Helvetica,sans-Serif\" font-size=\"14.00\" fill=\"#000000\">class = 2</text>\n</g>\n<!-- 1 -->\n<g id=\"node2\" class=\"node\">\n<title>1</title>\n<polygon fill=\"#e58139\" stroke=\"#000000\" points=\"216,-536.5 93,-536.5 93,-468.5 216,-468.5 216,-536.5\"/>\n<text text-anchor=\"middle\" x=\"154.5\" y=\"-521.3\" font-family=\"Helvetica,sans-Serif\" font-size=\"14.00\" fill=\"#000000\">gini = 0.0</text>\n<text text-anchor=\"middle\" x=\"154.5\" y=\"-506.3\" font-family=\"Helvetica,sans-Serif\" font-size=\"14.00\" fill=\"#000000\">samples = 45</text>\n<text text-anchor=\"middle\" x=\"154.5\" y=\"-491.3\" font-family=\"Helvetica,sans-Serif\" font-size=\"14.00\" fill=\"#000000\">value = [45, 0, 0]</text>\n<text text-anchor=\"middle\" x=\"154.5\" y=\"-476.3\" font-family=\"Helvetica,sans-Serif\" font-size=\"14.00\" fill=\"#000000\">class = 0</text>\n</g>\n<!-- 0&#45;&gt;1 -->\n<g id=\"edge1\" class=\"edge\">\n<title>0&#45;&gt;1</title>\n<path fill=\"none\" stroke=\"#000000\" d=\"M207.8204,-579.8796C200.0917,-568.6636 191.7191,-556.5131 183.9492,-545.2372\"/>\n<polygon fill=\"#000000\" stroke=\"#000000\" points=\"186.7018,-543.0634 178.1456,-536.8149 180.9377,-547.0353 186.7018,-543.0634\"/>\n<text text-anchor=\"middle\" x=\"173.6196\" y=\"-557.7018\" font-family=\"Helvetica,sans-Serif\" font-size=\"14.00\" fill=\"#000000\">True</text>\n</g>\n<!-- 2 -->\n<g id=\"node3\" class=\"node\">\n<title>2</title>\n<polygon fill=\"#faf6fe\" stroke=\"#000000\" points=\"404.5,-544 234.5,-544 234.5,-461 404.5,-461 404.5,-544\"/>\n<text text-anchor=\"middle\" x=\"319.5\" y=\"-528.8\" font-family=\"Helvetica,sans-Serif\" font-size=\"14.00\" fill=\"#000000\">petal width (cm) &lt;= 1.65</text>\n<text text-anchor=\"middle\" x=\"319.5\" y=\"-513.8\" font-family=\"Helvetica,sans-Serif\" font-size=\"14.00\" fill=\"#000000\">gini = 0.5</text>\n<text text-anchor=\"middle\" x=\"319.5\" y=\"-498.8\" font-family=\"Helvetica,sans-Serif\" font-size=\"14.00\" fill=\"#000000\">samples = 90</text>\n<text text-anchor=\"middle\" x=\"319.5\" y=\"-483.8\" font-family=\"Helvetica,sans-Serif\" font-size=\"14.00\" fill=\"#000000\">value = [0, 44, 46]</text>\n<text text-anchor=\"middle\" x=\"319.5\" y=\"-468.8\" font-family=\"Helvetica,sans-Serif\" font-size=\"14.00\" fill=\"#000000\">class = 2</text>\n</g>\n<!-- 0&#45;&gt;2 -->\n<g id=\"edge2\" class=\"edge\">\n<title>0&#45;&gt;2</title>\n<path fill=\"none\" stroke=\"#000000\" d=\"M265.5294,-579.8796C271.6855,-571.0534 278.2451,-561.6485 284.5936,-552.5466\"/>\n<polygon fill=\"#000000\" stroke=\"#000000\" points=\"287.4967,-554.5024 290.3467,-544.2981 281.7552,-550.4978 287.4967,-554.5024\"/>\n<text text-anchor=\"middle\" x=\"294.7331\" y=\"-565.2103\" font-family=\"Helvetica,sans-Serif\" font-size=\"14.00\" fill=\"#000000\">False</text>\n</g>\n<!-- 3 -->\n<g id=\"node4\" class=\"node\">\n<title>3</title>\n<polygon fill=\"#4be78d\" stroke=\"#000000\" points=\"310.5,-425 134.5,-425 134.5,-342 310.5,-342 310.5,-425\"/>\n<text text-anchor=\"middle\" x=\"222.5\" y=\"-409.8\" font-family=\"Helvetica,sans-Serif\" font-size=\"14.00\" fill=\"#000000\">petal length (cm) &lt;= 4.95</text>\n<text text-anchor=\"middle\" x=\"222.5\" y=\"-394.8\" font-family=\"Helvetica,sans-Serif\" font-size=\"14.00\" fill=\"#000000\">gini = 0.156</text>\n<text text-anchor=\"middle\" x=\"222.5\" y=\"-379.8\" font-family=\"Helvetica,sans-Serif\" font-size=\"14.00\" fill=\"#000000\">samples = 47</text>\n<text text-anchor=\"middle\" x=\"222.5\" y=\"-364.8\" font-family=\"Helvetica,sans-Serif\" font-size=\"14.00\" fill=\"#000000\">value = [0, 43, 4]</text>\n<text text-anchor=\"middle\" x=\"222.5\" y=\"-349.8\" font-family=\"Helvetica,sans-Serif\" font-size=\"14.00\" fill=\"#000000\">class = 1</text>\n</g>\n<!-- 2&#45;&gt;3 -->\n<g id=\"edge3\" class=\"edge\">\n<title>2&#45;&gt;3</title>\n<path fill=\"none\" stroke=\"#000000\" d=\"M285.5741,-460.8796C278.3062,-451.9633 270.557,-442.4565 263.0672,-433.268\"/>\n<polygon fill=\"#000000\" stroke=\"#000000\" points=\"265.6018,-430.8379 256.5707,-425.2981 260.176,-435.2606 265.6018,-430.8379\"/>\n</g>\n<!-- 10 -->\n<g id=\"node11\" class=\"node\">\n<title>10</title>\n<polygon fill=\"#843ee6\" stroke=\"#000000\" points=\"504.5,-425 328.5,-425 328.5,-342 504.5,-342 504.5,-425\"/>\n<text text-anchor=\"middle\" x=\"416.5\" y=\"-409.8\" font-family=\"Helvetica,sans-Serif\" font-size=\"14.00\" fill=\"#000000\">petal length (cm) &lt;= 4.85</text>\n<text text-anchor=\"middle\" x=\"416.5\" y=\"-394.8\" font-family=\"Helvetica,sans-Serif\" font-size=\"14.00\" fill=\"#000000\">gini = 0.045</text>\n<text text-anchor=\"middle\" x=\"416.5\" y=\"-379.8\" font-family=\"Helvetica,sans-Serif\" font-size=\"14.00\" fill=\"#000000\">samples = 43</text>\n<text text-anchor=\"middle\" x=\"416.5\" y=\"-364.8\" font-family=\"Helvetica,sans-Serif\" font-size=\"14.00\" fill=\"#000000\">value = [0, 1, 42]</text>\n<text text-anchor=\"middle\" x=\"416.5\" y=\"-349.8\" font-family=\"Helvetica,sans-Serif\" font-size=\"14.00\" fill=\"#000000\">class = 2</text>\n</g>\n<!-- 2&#45;&gt;10 -->\n<g id=\"edge10\" class=\"edge\">\n<title>2&#45;&gt;10</title>\n<path fill=\"none\" stroke=\"#000000\" d=\"M353.4259,-460.8796C360.6938,-451.9633 368.443,-442.4565 375.9328,-433.268\"/>\n<polygon fill=\"#000000\" stroke=\"#000000\" points=\"378.824,-435.2606 382.4293,-425.2981 373.3982,-430.8379 378.824,-435.2606\"/>\n</g>\n<!-- 4 -->\n<g id=\"node5\" class=\"node\">\n<title>4</title>\n<polygon fill=\"#39e581\" stroke=\"#000000\" points=\"123,-298.5 0,-298.5 0,-230.5 123,-230.5 123,-298.5\"/>\n<text text-anchor=\"middle\" x=\"61.5\" y=\"-283.3\" font-family=\"Helvetica,sans-Serif\" font-size=\"14.00\" fill=\"#000000\">gini = 0.0</text>\n<text text-anchor=\"middle\" x=\"61.5\" y=\"-268.3\" font-family=\"Helvetica,sans-Serif\" font-size=\"14.00\" fill=\"#000000\">samples = 42</text>\n<text text-anchor=\"middle\" x=\"61.5\" y=\"-253.3\" font-family=\"Helvetica,sans-Serif\" font-size=\"14.00\" fill=\"#000000\">value = [0, 42, 0]</text>\n<text text-anchor=\"middle\" x=\"61.5\" y=\"-238.3\" font-family=\"Helvetica,sans-Serif\" font-size=\"14.00\" fill=\"#000000\">class = 1</text>\n</g>\n<!-- 3&#45;&gt;4 -->\n<g id=\"edge4\" class=\"edge\">\n<title>3&#45;&gt;4</title>\n<path fill=\"none\" stroke=\"#000000\" d=\"M166.19,-341.8796C149.8968,-329.8368 132.1461,-316.7167 115.9675,-304.7586\"/>\n<polygon fill=\"#000000\" stroke=\"#000000\" points=\"117.7886,-301.7524 107.6665,-298.623 113.6279,-307.3816 117.7886,-301.7524\"/>\n</g>\n<!-- 5 -->\n<g id=\"node6\" class=\"node\">\n<title>5</title>\n<polygon fill=\"#a06aec\" stroke=\"#000000\" points=\"311.5,-306 141.5,-306 141.5,-223 311.5,-223 311.5,-306\"/>\n<text text-anchor=\"middle\" x=\"226.5\" y=\"-290.8\" font-family=\"Helvetica,sans-Serif\" font-size=\"14.00\" fill=\"#000000\">petal width (cm) &lt;= 1.55</text>\n<text text-anchor=\"middle\" x=\"226.5\" y=\"-275.8\" font-family=\"Helvetica,sans-Serif\" font-size=\"14.00\" fill=\"#000000\">gini = 0.32</text>\n<text text-anchor=\"middle\" x=\"226.5\" y=\"-260.8\" font-family=\"Helvetica,sans-Serif\" font-size=\"14.00\" fill=\"#000000\">samples = 5</text>\n<text text-anchor=\"middle\" x=\"226.5\" y=\"-245.8\" font-family=\"Helvetica,sans-Serif\" font-size=\"14.00\" fill=\"#000000\">value = [0, 1, 4]</text>\n<text text-anchor=\"middle\" x=\"226.5\" y=\"-230.8\" font-family=\"Helvetica,sans-Serif\" font-size=\"14.00\" fill=\"#000000\">class = 2</text>\n</g>\n<!-- 3&#45;&gt;5 -->\n<g id=\"edge5\" class=\"edge\">\n<title>3&#45;&gt;5</title>\n<path fill=\"none\" stroke=\"#000000\" d=\"M223.899,-341.8796C224.1745,-333.6838 224.4668,-324.9891 224.7521,-316.5013\"/>\n<polygon fill=\"#000000\" stroke=\"#000000\" points=\"228.257,-316.41 225.095,-306.2981 221.261,-316.1748 228.257,-316.41\"/>\n</g>\n<!-- 6 -->\n<g id=\"node7\" class=\"node\">\n<title>6</title>\n<polygon fill=\"#8139e5\" stroke=\"#000000\" points=\"127,-179.5 12,-179.5 12,-111.5 127,-111.5 127,-179.5\"/>\n<text text-anchor=\"middle\" x=\"69.5\" y=\"-164.3\" font-family=\"Helvetica,sans-Serif\" font-size=\"14.00\" fill=\"#000000\">gini = 0.0</text>\n<text text-anchor=\"middle\" x=\"69.5\" y=\"-149.3\" font-family=\"Helvetica,sans-Serif\" font-size=\"14.00\" fill=\"#000000\">samples = 3</text>\n<text text-anchor=\"middle\" x=\"69.5\" y=\"-134.3\" font-family=\"Helvetica,sans-Serif\" font-size=\"14.00\" fill=\"#000000\">value = [0, 0, 3]</text>\n<text text-anchor=\"middle\" x=\"69.5\" y=\"-119.3\" font-family=\"Helvetica,sans-Serif\" font-size=\"14.00\" fill=\"#000000\">class = 2</text>\n</g>\n<!-- 5&#45;&gt;6 -->\n<g id=\"edge6\" class=\"edge\">\n<title>5&#45;&gt;6</title>\n<path fill=\"none\" stroke=\"#000000\" d=\"M171.589,-222.8796C155.7006,-210.8368 138.3909,-197.7167 122.6143,-185.7586\"/>\n<polygon fill=\"#000000\" stroke=\"#000000\" points=\"124.6031,-182.8743 114.5195,-179.623 120.3747,-188.4529 124.6031,-182.8743\"/>\n</g>\n<!-- 7 -->\n<g id=\"node8\" class=\"node\">\n<title>7</title>\n<polygon fill=\"#ffffff\" stroke=\"#000000\" points=\"319.5,-187 145.5,-187 145.5,-104 319.5,-104 319.5,-187\"/>\n<text text-anchor=\"middle\" x=\"232.5\" y=\"-171.8\" font-family=\"Helvetica,sans-Serif\" font-size=\"14.00\" fill=\"#000000\">sepal width (cm) &lt;= 2.85</text>\n<text text-anchor=\"middle\" x=\"232.5\" y=\"-156.8\" font-family=\"Helvetica,sans-Serif\" font-size=\"14.00\" fill=\"#000000\">gini = 0.5</text>\n<text text-anchor=\"middle\" x=\"232.5\" y=\"-141.8\" font-family=\"Helvetica,sans-Serif\" font-size=\"14.00\" fill=\"#000000\">samples = 2</text>\n<text text-anchor=\"middle\" x=\"232.5\" y=\"-126.8\" font-family=\"Helvetica,sans-Serif\" font-size=\"14.00\" fill=\"#000000\">value = [0, 1, 1]</text>\n<text text-anchor=\"middle\" x=\"232.5\" y=\"-111.8\" font-family=\"Helvetica,sans-Serif\" font-size=\"14.00\" fill=\"#000000\">class = 1</text>\n</g>\n<!-- 5&#45;&gt;7 -->\n<g id=\"edge7\" class=\"edge\">\n<title>5&#45;&gt;7</title>\n<path fill=\"none\" stroke=\"#000000\" d=\"M228.5985,-222.8796C229.0117,-214.6838 229.4501,-205.9891 229.8781,-197.5013\"/>\n<polygon fill=\"#000000\" stroke=\"#000000\" points=\"233.3844,-197.4617 230.3925,-187.2981 226.3933,-197.1091 233.3844,-197.4617\"/>\n</g>\n<!-- 8 -->\n<g id=\"node9\" class=\"node\">\n<title>8</title>\n<polygon fill=\"#39e581\" stroke=\"#000000\" points=\"224,-68 109,-68 109,0 224,0 224,-68\"/>\n<text text-anchor=\"middle\" x=\"166.5\" y=\"-52.8\" font-family=\"Helvetica,sans-Serif\" font-size=\"14.00\" fill=\"#000000\">gini = 0.0</text>\n<text text-anchor=\"middle\" x=\"166.5\" y=\"-37.8\" font-family=\"Helvetica,sans-Serif\" font-size=\"14.00\" fill=\"#000000\">samples = 1</text>\n<text text-anchor=\"middle\" x=\"166.5\" y=\"-22.8\" font-family=\"Helvetica,sans-Serif\" font-size=\"14.00\" fill=\"#000000\">value = [0, 1, 0]</text>\n<text text-anchor=\"middle\" x=\"166.5\" y=\"-7.8\" font-family=\"Helvetica,sans-Serif\" font-size=\"14.00\" fill=\"#000000\">class = 1</text>\n</g>\n<!-- 7&#45;&gt;8 -->\n<g id=\"edge8\" class=\"edge\">\n<title>7&#45;&gt;8</title>\n<path fill=\"none\" stroke=\"#000000\" d=\"M207.924,-103.9815C202.7014,-95.1585 197.1771,-85.8258 191.9237,-76.9506\"/>\n<polygon fill=\"#000000\" stroke=\"#000000\" points=\"194.8874,-75.0863 186.7816,-68.2637 188.8636,-78.652 194.8874,-75.0863\"/>\n</g>\n<!-- 9 -->\n<g id=\"node10\" class=\"node\">\n<title>9</title>\n<polygon fill=\"#8139e5\" stroke=\"#000000\" points=\"357,-68 242,-68 242,0 357,0 357,-68\"/>\n<text text-anchor=\"middle\" x=\"299.5\" y=\"-52.8\" font-family=\"Helvetica,sans-Serif\" font-size=\"14.00\" fill=\"#000000\">gini = 0.0</text>\n<text text-anchor=\"middle\" x=\"299.5\" y=\"-37.8\" font-family=\"Helvetica,sans-Serif\" font-size=\"14.00\" fill=\"#000000\">samples = 1</text>\n<text text-anchor=\"middle\" x=\"299.5\" y=\"-22.8\" font-family=\"Helvetica,sans-Serif\" font-size=\"14.00\" fill=\"#000000\">value = [0, 0, 1]</text>\n<text text-anchor=\"middle\" x=\"299.5\" y=\"-7.8\" font-family=\"Helvetica,sans-Serif\" font-size=\"14.00\" fill=\"#000000\">class = 2</text>\n</g>\n<!-- 7&#45;&gt;9 -->\n<g id=\"edge9\" class=\"edge\">\n<title>7&#45;&gt;9</title>\n<path fill=\"none\" stroke=\"#000000\" d=\"M257.4483,-103.9815C262.7501,-95.1585 268.3581,-85.8258 273.6911,-76.9506\"/>\n<polygon fill=\"#000000\" stroke=\"#000000\" points=\"276.7605,-78.638 278.9111,-68.2637 270.7604,-75.0325 276.7605,-78.638\"/>\n</g>\n<!-- 11 -->\n<g id=\"node12\" class=\"node\">\n<title>11</title>\n<polygon fill=\"#ab7bee\" stroke=\"#000000\" points=\"497.5,-306 331.5,-306 331.5,-223 497.5,-223 497.5,-306\"/>\n<text text-anchor=\"middle\" x=\"414.5\" y=\"-290.8\" font-family=\"Helvetica,sans-Serif\" font-size=\"14.00\" fill=\"#000000\">sepal width (cm) &lt;= 3.1</text>\n<text text-anchor=\"middle\" x=\"414.5\" y=\"-275.8\" font-family=\"Helvetica,sans-Serif\" font-size=\"14.00\" fill=\"#000000\">gini = 0.375</text>\n<text text-anchor=\"middle\" x=\"414.5\" y=\"-260.8\" font-family=\"Helvetica,sans-Serif\" font-size=\"14.00\" fill=\"#000000\">samples = 4</text>\n<text text-anchor=\"middle\" x=\"414.5\" y=\"-245.8\" font-family=\"Helvetica,sans-Serif\" font-size=\"14.00\" fill=\"#000000\">value = [0, 1, 3]</text>\n<text text-anchor=\"middle\" x=\"414.5\" y=\"-230.8\" font-family=\"Helvetica,sans-Serif\" font-size=\"14.00\" fill=\"#000000\">class = 2</text>\n</g>\n<!-- 10&#45;&gt;11 -->\n<g id=\"edge11\" class=\"edge\">\n<title>10&#45;&gt;11</title>\n<path fill=\"none\" stroke=\"#000000\" d=\"M415.8005,-341.8796C415.6628,-333.6838 415.5166,-324.9891 415.374,-316.5013\"/>\n<polygon fill=\"#000000\" stroke=\"#000000\" points=\"418.8701,-316.2378 415.2025,-306.2981 411.8711,-316.3555 418.8701,-316.2378\"/>\n</g>\n<!-- 14 -->\n<g id=\"node15\" class=\"node\">\n<title>14</title>\n<polygon fill=\"#8139e5\" stroke=\"#000000\" points=\"639,-298.5 516,-298.5 516,-230.5 639,-230.5 639,-298.5\"/>\n<text text-anchor=\"middle\" x=\"577.5\" y=\"-283.3\" font-family=\"Helvetica,sans-Serif\" font-size=\"14.00\" fill=\"#000000\">gini = 0.0</text>\n<text text-anchor=\"middle\" x=\"577.5\" y=\"-268.3\" font-family=\"Helvetica,sans-Serif\" font-size=\"14.00\" fill=\"#000000\">samples = 39</text>\n<text text-anchor=\"middle\" x=\"577.5\" y=\"-253.3\" font-family=\"Helvetica,sans-Serif\" font-size=\"14.00\" fill=\"#000000\">value = [0, 0, 39]</text>\n<text text-anchor=\"middle\" x=\"577.5\" y=\"-238.3\" font-family=\"Helvetica,sans-Serif\" font-size=\"14.00\" fill=\"#000000\">class = 2</text>\n</g>\n<!-- 10&#45;&gt;14 -->\n<g id=\"edge14\" class=\"edge\">\n<title>10&#45;&gt;14</title>\n<path fill=\"none\" stroke=\"#000000\" d=\"M472.81,-341.8796C489.1032,-329.8368 506.8539,-316.7167 523.0325,-304.7586\"/>\n<polygon fill=\"#000000\" stroke=\"#000000\" points=\"525.3721,-307.3816 531.3335,-298.623 521.2114,-301.7524 525.3721,-307.3816\"/>\n</g>\n<!-- 12 -->\n<g id=\"node13\" class=\"node\">\n<title>12</title>\n<polygon fill=\"#8139e5\" stroke=\"#000000\" points=\"468,-179.5 353,-179.5 353,-111.5 468,-111.5 468,-179.5\"/>\n<text text-anchor=\"middle\" x=\"410.5\" y=\"-164.3\" font-family=\"Helvetica,sans-Serif\" font-size=\"14.00\" fill=\"#000000\">gini = 0.0</text>\n<text text-anchor=\"middle\" x=\"410.5\" y=\"-149.3\" font-family=\"Helvetica,sans-Serif\" font-size=\"14.00\" fill=\"#000000\">samples = 3</text>\n<text text-anchor=\"middle\" x=\"410.5\" y=\"-134.3\" font-family=\"Helvetica,sans-Serif\" font-size=\"14.00\" fill=\"#000000\">value = [0, 0, 3]</text>\n<text text-anchor=\"middle\" x=\"410.5\" y=\"-119.3\" font-family=\"Helvetica,sans-Serif\" font-size=\"14.00\" fill=\"#000000\">class = 2</text>\n</g>\n<!-- 11&#45;&gt;12 -->\n<g id=\"edge12\" class=\"edge\">\n<title>11&#45;&gt;12</title>\n<path fill=\"none\" stroke=\"#000000\" d=\"M413.101,-222.8796C412.7425,-212.2134 412.3555,-200.7021 411.9925,-189.9015\"/>\n<polygon fill=\"#000000\" stroke=\"#000000\" points=\"415.4875,-189.6917 411.6534,-179.8149 408.4915,-189.9269 415.4875,-189.6917\"/>\n</g>\n<!-- 13 -->\n<g id=\"node14\" class=\"node\">\n<title>13</title>\n<polygon fill=\"#39e581\" stroke=\"#000000\" points=\"601,-179.5 486,-179.5 486,-111.5 601,-111.5 601,-179.5\"/>\n<text text-anchor=\"middle\" x=\"543.5\" y=\"-164.3\" font-family=\"Helvetica,sans-Serif\" font-size=\"14.00\" fill=\"#000000\">gini = 0.0</text>\n<text text-anchor=\"middle\" x=\"543.5\" y=\"-149.3\" font-family=\"Helvetica,sans-Serif\" font-size=\"14.00\" fill=\"#000000\">samples = 1</text>\n<text text-anchor=\"middle\" x=\"543.5\" y=\"-134.3\" font-family=\"Helvetica,sans-Serif\" font-size=\"14.00\" fill=\"#000000\">value = [0, 1, 0]</text>\n<text text-anchor=\"middle\" x=\"543.5\" y=\"-119.3\" font-family=\"Helvetica,sans-Serif\" font-size=\"14.00\" fill=\"#000000\">class = 1</text>\n</g>\n<!-- 11&#45;&gt;13 -->\n<g id=\"edge13\" class=\"edge\">\n<title>11&#45;&gt;13</title>\n<path fill=\"none\" stroke=\"#000000\" d=\"M459.6179,-222.8796C472.2533,-211.2237 485.9826,-198.5587 498.605,-186.9148\"/>\n<polygon fill=\"#000000\" stroke=\"#000000\" points=\"501.3244,-189.168 506.3015,-179.8149 496.578,-184.0228 501.3244,-189.168\"/>\n</g>\n</g>\n</svg>\n"
          },
          "metadata": {},
          "execution_count": 102
        }
      ]
    },
    {
      "cell_type": "markdown",
      "source": [
        "Resultado da classificação utilizando o 10-cross fold validation"
      ],
      "metadata": {
        "id": "SFLECmXOvapT"
      }
    },
    {
      "cell_type": "code",
      "source": [
        "def tree_comparison(data):\n",
        "  x = data[['petal length (cm)','petal width (cm)']].values\n",
        "  y = data['target'].astype(int).values\n",
        "  clf = DecisionTreeClassifier()\n",
        "  clf.fit(x, y)\n",
        "# Plotting decision region\n",
        "  fig = plt.figure(figsize= (10, 10))\n",
        "  plot_decision_regions(x, y, clf=clf, legend=2)\n",
        "# Adding axes annotations\n",
        "\n",
        "  plt.xlabel('petal length (cm)')\n",
        "  plt.ylabel('petal width (cm)')\n",
        "  plt.title('Arvore de decisão')\n",
        "\n",
        "tree_comparison(data1)"
      ],
      "metadata": {
        "id": "fyWajLVRIv2_",
        "colab": {
          "base_uri": "https://localhost:8080/",
          "height": 621
        },
        "outputId": "3fa17e77-4abe-446c-82ac-e46c0536bc7f"
      },
      "execution_count": null,
      "outputs": [
        {
          "output_type": "display_data",
          "data": {
            "text/plain": [
              "<Figure size 720x720 with 1 Axes>"
            ],
            "image/png": "[encoded data removed]"
          },
          "metadata": {
            "needs_background": "light"
          }
        }
      ]
    },
    {
      "cell_type": "markdown",
      "source": [
        "KNN - KNeighborsClassifier"
      ],
      "metadata": {
        "id": "r3vNYTLyvzwh"
      }
    },
    {
      "cell_type": "code",
      "source": [
        "knn_classifier = KNeighborsClassifier(n_neighbors=15)\n",
        "# knn_classifier.fit(X_train, y_train)\n",
        "# y_pred_knn = knn_classifier.predict(X_test)\n",
        "scores = 1 * cross_val_score(knn_classifier, X1, y1, cv=10)\n",
        "\n",
        "a = scores.mean()*100\n",
        "print(\"score: \"+str(a)+\"%\")"
      ],
      "metadata": {
        "id": "NUu996tvtX1g",
        "colab": {
          "base_uri": "https://localhost:8080/"
        },
        "outputId": "9996114e-291b-4692-adaa-0d427c46bd52"
      },
      "execution_count": null,
      "outputs": [
        {
          "output_type": "stream",
          "name": "stdout",
          "text": [
            "score: 97.33333333333334%\n"
          ]
        }
      ]
    },
    {
      "cell_type": "markdown",
      "source": [
        "Resultado da classificação utilizando o 10-cross fold validation"
      ],
      "metadata": {
        "id": "X41rOB_mwL5t"
      }
    },
    {
      "cell_type": "code",
      "source": [
        "def knn_comparison(data, k):\n",
        "  x = data[['petal length (cm)','petal width (cm)']].values\n",
        "  y = data['target'].astype(int).values\n",
        "  clf = KNeighborsClassifier(n_neighbors=k)\n",
        "  clf.fit(x, y)\n",
        "# Plotting decision region\n",
        "  fig = plt.figure(figsize= (10, 10))\n",
        "  plot_decision_regions(x, y, clf=clf, legend=2)\n",
        "# Adding axes annotations\n",
        "\n",
        "  plt.xlabel('petal length (cm)')\n",
        "  plt.ylabel('petal width (cm)')\n",
        "  plt.title('Knn com K='+ str(k))\n",
        "\n",
        "\n",
        "knn_comparison(data1, 10)\n"
      ],
      "metadata": {
        "id": "d_JuyjsywBLO",
        "colab": {
          "base_uri": "https://localhost:8080/",
          "height": 621
        },
        "outputId": "51d2e3b0-303b-4e8b-e9bf-fea8084499e3"
      },
      "execution_count": null,
      "outputs": [
        {
          "output_type": "display_data",
          "data": {
            "text/plain": [
              "<Figure size 720x720 with 1 Axes>"
            ],
            "image/png": "[encoded data removed]"
          },
          "metadata": {
            "needs_background": "light"
          }
        }
      ]
    },
    {
      "cell_type": "markdown",
      "source": [
        "Multilayer Perceptron (MLP)"
      ],
      "metadata": {
        "id": "YXY06dm4uKst"
      }
    },
    {
      "cell_type": "code",
      "source": [
        "from sklearn.neural_network import MLPClassifier\n",
        "from sklearn.datasets import make_classification\n",
        "\n",
        "MLP_classifier = MLPClassifier(random_state=1, max_iter=300)\n",
        "scores = 1 * cross_val_score(MLP_classifier, X1, y1, cv=10)\n",
        "\n",
        "a = scores.mean()*100\n",
        "print(\"score: \"+str(a)+\"%\")\n"
      ],
      "metadata": {
        "id": "zPFt2rRut9X5",
        "colab": {
          "base_uri": "https://localhost:8080/"
        },
        "outputId": "0beeaf0e-2936-4ac8-efe5-c10b4b1256ed"
      },
      "execution_count": null,
      "outputs": [
        {
          "output_type": "stream",
          "name": "stdout",
          "text": [
            "score: 98.00000000000001%\n"
          ]
        }
      ]
    },
    {
      "cell_type": "markdown",
      "source": [
        "Resultado da classificação utilizando o 10-cross fold validation"
      ],
      "metadata": {
        "id": "XW85-kLPwSeB"
      }
    },
    {
      "cell_type": "code",
      "source": [
        "def mlp_comparison(data):\n",
        "  x = data[['petal length (cm)','petal width (cm)']].values\n",
        "  y = data['target'].astype(int).values\n",
        "  clf = MLPClassifier(random_state=1, max_iter=300)\n",
        "  clf.fit(x, y)\n",
        "# Plotting decision region\n",
        "  fig = plt.figure(figsize= (10, 10))\n",
        "  plot_decision_regions(x, y, clf=clf, legend=2)\n",
        "# Adding axes annotations\n",
        "\n",
        "  plt.xlabel('petal length (cm)')\n",
        "  plt.ylabel('petal width (cm)')\n",
        "  plt.title('Mlp')\n",
        "\n",
        "\n",
        "mlp_comparison(data1)"
      ],
      "metadata": {
        "id": "5yfDCuqIwcPP",
        "colab": {
          "base_uri": "https://localhost:8080/",
          "height": 621
        },
        "outputId": "efc1fbde-bc6c-4ae9-874b-b4484d4a45ff"
      },
      "execution_count": null,
      "outputs": [
        {
          "output_type": "display_data",
          "data": {
            "text/plain": [
              "<Figure size 720x720 with 1 Axes>"
            ],
            "image/png": "[encoded data removed]"
          },
          "metadata": {
            "needs_background": "light"
          }
        }
      ]
    },
    {
      "cell_type": "markdown",
      "source": [
        "Naive bayes"
      ],
      "metadata": {
        "id": "GxO0W16jSo4w"
      }
    },
    {
      "cell_type": "code",
      "source": [
        "from sklearn.naive_bayes import GaussianNB\n",
        "NVB_classifier = GaussianNB()\n",
        "\n",
        "scores = 1 * cross_val_score(NVB_classifier, X1, y1, cv=10)"
      ],
      "metadata": {
        "id": "-5aAJfcmSm5H"
      },
      "execution_count": null,
      "outputs": []
    },
    {
      "cell_type": "code",
      "source": [
        "a = scores.mean()*100\n",
        "print(\"score: \"+str(a)+\"%\")"
      ],
      "metadata": {
        "id": "jInlS9QiS7Xk",
        "colab": {
          "base_uri": "https://localhost:8080/"
        },
        "outputId": "e5c92fa4-da51-4b3a-cacc-f5a18baf049b"
      },
      "execution_count": null,
      "outputs": [
        {
          "output_type": "stream",
          "name": "stdout",
          "text": [
            "score: 95.33333333333334%\n"
          ]
        }
      ]
    },
    {
      "cell_type": "code",
      "source": [
        "def nvb_comparison(data):\n",
        "  x = data[['petal length (cm)','petal width (cm)']].values\n",
        "  y = data['target'].astype(int).values\n",
        "  clf = GaussianNB()\n",
        "  clf.fit(x, y)\n",
        "# Plotting decision region\n",
        "  fig = plt.figure(figsize= (10, 10))\n",
        "  plot_decision_regions(x, y, clf=clf, legend=2)\n",
        "# Adding axes annotations\n",
        "\n",
        "  plt.xlabel('petal length (cm)')\n",
        "  plt.ylabel('petal width (cm)')\n",
        "  plt.title('Naive Bayes')\n",
        "\n",
        "nvb_comparison(data1)"
      ],
      "metadata": {
        "id": "6PyvjiVzZ2Mk",
        "colab": {
          "base_uri": "https://localhost:8080/",
          "height": 621
        },
        "outputId": "750adc37-86f8-4121-e006-264b60547a0e"
      },
      "execution_count": null,
      "outputs": [
        {
          "output_type": "display_data",
          "data": {
            "text/plain": [
              "<Figure size 720x720 with 1 Axes>"
            ],
            "image/png": "[encoded data removed]"
          },
          "metadata": {
            "needs_background": "light"
          }
        }
      ]
    },
    {
      "cell_type": "markdown",
      "source": [
        "# Dataset2"
      ],
      "metadata": {
        "id": "H3S0PHxbx1g7"
      }
    },
    {
      "cell_type": "code",
      "source": [
        "from sklearn.datasets import load_digits\n",
        "digits = load_digits()\n",
        "\n",
        "data2 = pd.DataFrame(digits.data, columns=digits.feature_names)\n",
        "\n",
        "data2['target'] = digits.target\n",
        "\n",
        "X2 = data2.drop('target', axis = 1)\n",
        "y2 = data2['target']\n",
        "\n",
        "sns.countplot(y2)"
      ],
      "metadata": {
        "id": "Zet46AsXy7Mi",
        "colab": {
          "base_uri": "https://localhost:8080/",
          "height": 296
        },
        "outputId": "9a6f792f-12f3-44ae-e470-52024c37d9c4"
      },
      "execution_count": null,
      "outputs": [
        {
          "output_type": "execute_result",
          "data": {
            "text/plain": [
              "<matplotlib.axes._subplots.AxesSubplot at 0x7f94ea3a0d50>"
            ]
          },
          "metadata": {},
          "execution_count": 107
        },
        {
          "output_type": "display_data",
          "data": {
            "text/plain": [
              "<Figure size 432x288 with 1 Axes>"
            ],
            "image/png": "[encoded data removed]"
          },
          "metadata": {
            "needs_background": "light"
          }
        }
      ]
    },
    {
      "cell_type": "code",
      "source": [
        "hiperparametros(X2,y2)"
      ],
      "metadata": {
        "colab": {
          "base_uri": "https://localhost:8080/"
        },
        "id": "R_ZPKS5jKJDW",
        "outputId": "f5fff787-07da-4df7-9205-f347068131c4"
      },
      "execution_count": null,
      "outputs": [
        {
          "output_type": "execute_result",
          "data": {
            "text/plain": [
              "[                params  mean_test_score  std_test_score  rank_test_score\n",
              " 0   {'n_neighbors': 1}         0.974963        0.017080                1\n",
              " 1   {'n_neighbors': 5}         0.971074        0.017169                2\n",
              " 2  {'n_neighbors': 10}         0.962163        0.020458                4\n",
              " 3  {'n_neighbors': 13}         0.963271        0.021847                3\n",
              " 4  {'n_neighbors': 15}         0.962157        0.020634                5,\n",
              "                                               params  mean_test_score  \\\n",
              " 0  {'hidden_layer_sizes': 10, 'max_iter': 200, 'r...         0.907641   \n",
              " 1  {'hidden_layer_sizes': 20, 'max_iter': 200, 'r...         0.932635   \n",
              " 2  {'hidden_layer_sizes': 30, 'max_iter': 200, 'r...         0.930990   \n",
              " 3  {'hidden_layer_sizes': 150, 'max_iter': 200, '...         0.953821   \n",
              " \n",
              "    std_test_score  rank_test_score  \n",
              " 0        0.039098                4  \n",
              " 1        0.030852                2  \n",
              " 2        0.035810                3  \n",
              " 3        0.030019                1  ,\n",
              "                                       params  mean_test_score  std_test_score  \\\n",
              " 0     {'criterion': 'gini', 'max_depth': 10}         0.953333        0.042687   \n",
              " 1     {'criterion': 'gini', 'max_depth': 20}         0.953333        0.042687   \n",
              " 2  {'criterion': 'entropy', 'max_depth': 10}         0.960000        0.044222   \n",
              " 3  {'criterion': 'entropy', 'max_depth': 20}         0.960000        0.044222   \n",
              " \n",
              "    rank_test_score  \n",
              " 0                3  \n",
              " 1                3  \n",
              " 2                1  \n",
              " 3                1  ]"
            ]
          },
          "metadata": {},
          "execution_count": 108
        }
      ]
    },
    {
      "cell_type": "code",
      "source": [
        "score2,mean2,std2 = ai_method_compare(X1,y1,'entropy',10,1,200,150)\n"
      ],
      "metadata": {
        "id": "ZSYOmmv99ULR",
        "colab": {
          "base_uri": "https://localhost:8080/"
        },
        "outputId": "4c28fad9-ae3d-472e-e129-d3b4b94833f4"
      },
      "execution_count": null,
      "outputs": [
        {
          "output_type": "stream",
          "name": "stdout",
          "text": [
            "arvore: 95.33333333333334%, knn: 96.0%, mlp: 97.33333333333334%, naive bayes: 95.33333333333334%\n"
          ]
        }
      ]
    },
    {
      "cell_type": "markdown",
      "source": [
        "# Dataset3"
      ],
      "metadata": {
        "id": "ZIPb6nrRyFPl"
      }
    },
    {
      "cell_type": "code",
      "source": [
        "from sklearn.datasets import load_breast_cancer\n",
        "cancer = load_breast_cancer()\n",
        "\n",
        "data3 = pd.DataFrame(cancer.data, columns=cancer.feature_names)\n",
        "\n",
        "data3['target'] = cancer.target\n",
        "\n",
        "X3 = data3.drop('target', axis=1)\n",
        "y3 = data3.target\n",
        "\n",
        "sns.countplot(y3)"
      ],
      "metadata": {
        "id": "y-Kal_EhyE5M",
        "colab": {
          "base_uri": "https://localhost:8080/",
          "height": 296
        },
        "outputId": "98a4bf01-3b8e-4879-aa3e-db05fae6198f"
      },
      "execution_count": null,
      "outputs": [
        {
          "output_type": "execute_result",
          "data": {
            "text/plain": [
              "<matplotlib.axes._subplots.AxesSubplot at 0x7f94ecd94810>"
            ]
          },
          "metadata": {},
          "execution_count": 19
        },
        {
          "output_type": "display_data",
          "data": {
            "text/plain": [
              "<Figure size 432x288 with 1 Axes>"
            ],
            "image/png": "[encoded data removed]"
          },
          "metadata": {
            "needs_background": "light"
          }
        }
      ]
    },
    {
      "cell_type": "code",
      "source": [
        "hiperparametros(X3,y3)"
      ],
      "metadata": {
        "colab": {
          "base_uri": "https://localhost:8080/"
        },
        "id": "Oy1qGHpgLKn9",
        "outputId": "9409b273-f16e-43bb-b5e6-8e563cab37b9"
      },
      "execution_count": null,
      "outputs": [
        {
          "output_type": "execute_result",
          "data": {
            "text/plain": [
              "[                params  mean_test_score  std_test_score  rank_test_score\n",
              " 0   {'n_neighbors': 1}         0.915695        0.030086                5\n",
              " 1   {'n_neighbors': 5}         0.929762        0.029282                3\n",
              " 2  {'n_neighbors': 10}         0.931516        0.034542                1\n",
              " 3  {'n_neighbors': 13}         0.931516        0.037119                1\n",
              " 4  {'n_neighbors': 15}         0.929762        0.036741                3,\n",
              "                                               params  mean_test_score  \\\n",
              " 0  {'hidden_layer_sizes': 10, 'max_iter': 200, 'r...         0.855984   \n",
              " 1  {'hidden_layer_sizes': 20, 'max_iter': 200, 'r...         0.627412   \n",
              " 2  {'hidden_layer_sizes': 30, 'max_iter': 200, 'r...         0.928039   \n",
              " 3  {'hidden_layer_sizes': 150, 'max_iter': 200, '...         0.940320   \n",
              " \n",
              "    std_test_score  rank_test_score  \n",
              " 0        0.045423                3  \n",
              " 1        0.006966                4  \n",
              " 2        0.022732                2  \n",
              " 3        0.022409                1  ,\n",
              "                                       params  mean_test_score  std_test_score  \\\n",
              " 0     {'criterion': 'gini', 'max_depth': 10}         0.953333        0.042687   \n",
              " 1     {'criterion': 'gini', 'max_depth': 20}         0.960000        0.044222   \n",
              " 2  {'criterion': 'entropy', 'max_depth': 10}         0.960000        0.044222   \n",
              " 3  {'criterion': 'entropy', 'max_depth': 20}         0.953333        0.042687   \n",
              " \n",
              "    rank_test_score  \n",
              " 0                3  \n",
              " 1                1  \n",
              " 2                1  \n",
              " 3                3  ]"
            ]
          },
          "metadata": {},
          "execution_count": 110
        }
      ]
    },
    {
      "cell_type": "code",
      "source": [
        "score3,mean3,std3 = ai_method_compare(X3,y3,'entropy',10,10,200,150)"
      ],
      "metadata": {
        "colab": {
          "base_uri": "https://localhost:8080/"
        },
        "id": "YP1vpWfk7QQp",
        "outputId": "cf353cac-dcb1-4c2b-b6d4-44469b1921e4"
      },
      "execution_count": null,
      "outputs": [
        {
          "output_type": "stream",
          "name": "stdout",
          "text": [
            "arvore: 92.61904761904762%, knn: 93.15162907268169%, mlp: 94.03195488721805%, naive bayes: 93.67794486215537%\n"
          ]
        }
      ]
    },
    {
      "cell_type": "markdown",
      "source": [
        "# Dataset4"
      ],
      "metadata": {
        "id": "LMHDg0N2yKeF"
      }
    },
    {
      "cell_type": "code",
      "source": [
        "from sklearn.datasets import load_wine\n",
        "wine = load_wine()\n",
        "\n",
        "data4 = pd.DataFrame(wine.data, columns=wine.feature_names)\n",
        "\n",
        "data4['target'] = wine.target\n",
        "\n",
        "X4 = data4.drop('target', axis=1)\n",
        "y4 = data4.target\n",
        "\n",
        "sns.countplot(y4)"
      ],
      "metadata": {
        "id": "w6QoA7b1yO3a",
        "colab": {
          "base_uri": "https://localhost:8080/",
          "height": 296
        },
        "outputId": "21a24e0e-6205-443e-8b4d-7a1445d6928f"
      },
      "execution_count": null,
      "outputs": [
        {
          "output_type": "execute_result",
          "data": {
            "text/plain": [
              "<matplotlib.axes._subplots.AxesSubplot at 0x7f94ecdbd590>"
            ]
          },
          "metadata": {},
          "execution_count": 21
        },
        {
          "output_type": "display_data",
          "data": {
            "text/plain": [
              "<Figure size 432x288 with 1 Axes>"
            ],
            "image/png": "[encoded data removed]"
          },
          "metadata": {
            "needs_background": "light"
          }
        }
      ]
    },
    {
      "cell_type": "code",
      "source": [
        "hiperparametros(X4,y4)"
      ],
      "metadata": {
        "colab": {
          "base_uri": "https://localhost:8080/"
        },
        "id": "GTelHQejLpkN",
        "outputId": "55da75e9-0adb-4ebf-d560-caf54649f7e7"
      },
      "execution_count": null,
      "outputs": [
        {
          "output_type": "execute_result",
          "data": {
            "text/plain": [
              "[                params  mean_test_score  std_test_score  rank_test_score\n",
              " 0   {'n_neighbors': 1}         0.748039        0.095405                1\n",
              " 1   {'n_neighbors': 5}         0.675490        0.069908                5\n",
              " 2  {'n_neighbors': 10}         0.697386        0.064342                3\n",
              " 3  {'n_neighbors': 13}         0.691830        0.064356                4\n",
              " 4  {'n_neighbors': 15}         0.719935        0.057983                2,\n",
              "                                               params  mean_test_score  \\\n",
              " 0  {'hidden_layer_sizes': 10, 'max_iter': 200, 'r...         0.269281   \n",
              " 1  {'hidden_layer_sizes': 20, 'max_iter': 200, 'r...         0.399346   \n",
              " 2  {'hidden_layer_sizes': 30, 'max_iter': 200, 'r...         0.331373   \n",
              " 3  {'hidden_layer_sizes': 150, 'max_iter': 200, '...         0.911111   \n",
              " \n",
              "    std_test_score  rank_test_score  \n",
              " 0        0.016993                4  \n",
              " 1        0.024707                2  \n",
              " 2        0.013725                3  \n",
              " 3        0.066667                1  ,\n",
              "                                       params  mean_test_score  std_test_score  \\\n",
              " 0     {'criterion': 'gini', 'max_depth': 10}         0.953333        0.042687   \n",
              " 1     {'criterion': 'gini', 'max_depth': 20}         0.953333        0.042687   \n",
              " 2  {'criterion': 'entropy', 'max_depth': 10}         0.953333        0.042687   \n",
              " 3  {'criterion': 'entropy', 'max_depth': 20}         0.960000        0.044222   \n",
              " \n",
              "    rank_test_score  \n",
              " 0                2  \n",
              " 1                2  \n",
              " 2                2  \n",
              " 3                1  ]"
            ]
          },
          "metadata": {},
          "execution_count": 113
        }
      ]
    },
    {
      "cell_type": "code",
      "source": [
        "score4,mean4,std4 = ai_method_compare(X4,y4,'entropy',20,1,200,150)"
      ],
      "metadata": {
        "colab": {
          "base_uri": "https://localhost:8080/"
        },
        "id": "nHwhB_KI8Bbp",
        "outputId": "86337c02-b0cb-4839-c143-1c0501d0fbd6"
      },
      "execution_count": null,
      "outputs": [
        {
          "output_type": "stream",
          "name": "stdout",
          "text": [
            "arvore: 89.86928104575163%, knn: 74.80392156862746%, mlp: 91.11111111111111%, naive bayes: 97.77777777777779%\n"
          ]
        }
      ]
    },
    {
      "cell_type": "code",
      "source": [
        "def ai_method_compare(X,y):\n",
        "  if len(y)>2000:\n",
        "    it=30\n",
        "  else:\n",
        "    it=300\n",
        "\n",
        "  tree_classifier = DecisionTreeClassifier()\n",
        "  knn_classifier = KNeighborsClassifier(n_neighbors=30)\n",
        "  MLP_classifier = MLPClassifier(random_state=1, max_iter=it)\n",
        "  NVB_classifier = GaussianNB()\n",
        "\n",
        "  score_tree = cross_val_score(tree_classifier, X, y, cv=10)\n",
        "  erro_tree = [1,1,1,1,1,1,1,1,1,1] - score_tree\n",
        "\n",
        "  m_score_tree =  erro_tree.mean()\n",
        "  dp_score_tree = np.std(erro_tree)\n",
        "\n",
        "  score_knn = cross_val_score(knn_classifier, X, y, cv=10)\n",
        "  erro_knn = [1,1,1,1,1,1,1,1,1,1] - score_knn\n",
        "\n",
        "  m_score_knn =  erro_knn.mean()\n",
        "  dp_score_knn = np.std(erro_knn)\n",
        "\n",
        "  score_mlp = cross_val_score(MLP_classifier, X, y, cv=10)\n",
        "  erro_mlp = [1,1,1,1,1,1,1,1,1,1] - score_mlp\n",
        "\n",
        "  m_score_mlp =  erro_mlp.mean()\n",
        "  dp_score_mlp = np.std(erro_mlp)\n",
        "\n",
        "  score_nvb = cross_val_score(NVB_classifier, X, y, cv=10)\n",
        "  erro_nvb = [1,1,1,1,1,1,1,1,1,1] - score_nvb\n",
        "\n",
        "  m_score_nvb =  erro_nvb.mean()\n",
        "  dp_score_nvb = np.std(erro_nvb)\n",
        "\n",
        "  print(\"arvore: \"+str(score_tree.mean()*100)+\"%, knn: \" +str(score_knn.mean()*100)+\"%, mlp: \"+str(score_mlp.mean()*100)+\"%, naive bayes: \"+str(score_nvb.mean()*100)+\"%\")\n",
        "\n",
        "\n",
        "  return [score_tree.mean()*100, score_knn.mean()*100, score_mlp.mean()*100, score_nvb.mean()*100],[m_score_tree,  m_score_knn,  m_score_mlp,m_score_nvb],[dp_score_tree,dp_score_knn,dp_score_mlp,dp_score_nvb]"
      ],
      "metadata": {
        "id": "ahcrXPeFOR-6"
      },
      "execution_count": null,
      "outputs": []
    },
    {
      "cell_type": "markdown",
      "source": [
        "# Dataset5"
      ],
      "metadata": {
        "id": "OT54HtVzyPWg"
      }
    },
    {
      "cell_type": "code",
      "source": [
        "data5 = pd.read_csv('/content/drive/Shareddrives/IA/Datasets/creditcard.csv')\n",
        "print(sum(data5['Class']==1))\n",
        "print(sum(data5['Class']==0))\n",
        "\n",
        "X5=data5.drop(\"Class\", axis=1)\n",
        "y5=data5['Class']\n",
        "\n",
        "sns.countplot(y5)\n",
        "\n",
        "##ajuste por undersamplimg através da técnica de nearmiss\n",
        "X5_nm,y5_nm = NS.fit_resample(X5,y5)\n",
        "col = X5.columns\n",
        "\n",
        "##ajuste das escalas dos parâmetros\n",
        "for j in range(len(col)):\n",
        "  X5_nm[col[j]] = std_scaler.fit_transform(X5_nm[col[j]].values.reshape(-1,1))\n",
        "\n",
        "X5_nm = pd.DataFrame(X5_nm)\n",
        "\n",
        "##grafico dos dados desbalanceados\n",
        "sns.countplot(y5_nm)"
      ],
      "metadata": {
        "id": "irIK3h2DySzw",
        "colab": {
          "base_uri": "https://localhost:8080/",
          "height": 331
        },
        "outputId": "06d335f0-ed78-4b18-b9aa-6fde2b8b5ec7"
      },
      "execution_count": null,
      "outputs": [
        {
          "output_type": "stream",
          "name": "stdout",
          "text": [
            "492\n",
            "284315\n"
          ]
        },
        {
          "output_type": "execute_result",
          "data": {
            "text/plain": [
              "<matplotlib.axes._subplots.AxesSubplot at 0x7f94ece3fe50>"
            ]
          },
          "metadata": {},
          "execution_count": 23
        },
        {
          "output_type": "display_data",
          "data": {
            "text/plain": [
              "<Figure size 432x288 with 1 Axes>"
            ],
            "image/png": "[encoded data removed]"
          },
          "metadata": {
            "needs_background": "light"
          }
        }
      ]
    },
    {
      "cell_type": "markdown",
      "source": [
        "gráfico dos dados balanceados\n"
      ],
      "metadata": {
        "id": "id_Nm7JdUp-C"
      }
    },
    {
      "cell_type": "code",
      "source": [
        "colors = [\"#0101DF\", \"#DF0101\"]\n",
        "sns.countplot(y5_nm, palette=colors)\n",
        "plt.title('Fraude no cartão \\n (0: Não || 1: sim)', fontsize=14)"
      ],
      "metadata": {
        "id": "lf7eJ6i-km6F",
        "colab": {
          "base_uri": "https://localhost:8080/",
          "height": 330
        },
        "outputId": "4a87f69c-1971-42f7-f9e8-564824ee50f8"
      },
      "execution_count": null,
      "outputs": [
        {
          "output_type": "execute_result",
          "data": {
            "text/plain": [
              "Text(0.5, 1.0, 'Fraude no cartão \\n (0: Não || 1: sim)')"
            ]
          },
          "metadata": {},
          "execution_count": 24
        },
        {
          "output_type": "display_data",
          "data": {
            "text/plain": [
              "<Figure size 432x288 with 1 Axes>"
            ],
            "image/png": "[encoded data removed]"
          },
          "metadata": {
            "needs_background": "light"
          }
        }
      ]
    },
    {
      "cell_type": "code",
      "source": [
        "Resultados"
      ],
      "metadata": {
        "id": "x_Bh8TTCUu8x"
      },
      "execution_count": null,
      "outputs": []
    },
    {
      "cell_type": "code",
      "source": [
        "score5,mean5,std5 = ai_method_compare(X5_nm,y5_nm)"
      ],
      "metadata": {
        "id": "9pBcJvnCj7lV",
        "colab": {
          "base_uri": "https://localhost:8080/"
        },
        "outputId": "9c3e64f5-c94d-40e2-a3f1-9e9ae82f1d98"
      },
      "execution_count": null,
      "outputs": [
        {
          "output_type": "stream",
          "name": "stdout",
          "text": [
            "arvore: 94.51350237064521%, knn: 91.65635951350237%, mlp: 95.4215625644197%, naive bayes: 92.47165532879819%\n"
          ]
        }
      ]
    },
    {
      "cell_type": "markdown",
      "source": [
        "# Dataset6"
      ],
      "metadata": {
        "id": "l1VRPGntyTNN"
      }
    },
    {
      "cell_type": "code",
      "source": [
        "data6 = pd.read_csv('/content/drive/Shareddrives/IA/Datasets/neo.csv')\n",
        "data6.dropna(subset=data6.columns, inplace=True)\n",
        "data6 = data6.drop(['name', 'orbiting_body', 'id', 'sentry_object'], axis=1)\n",
        "data6['hazardous'] = data6['hazardous']*1\n",
        "\n",
        "X6=data6.drop(\"hazardous\", axis=1)\n",
        "y6=data6['hazardous']\n",
        "\n",
        "X6_nm,Y6_nm = NS.fit_resample(X6,y6)\n",
        "col = X6_nm.columns\n",
        "\n",
        "for j in range(len(col)):\n",
        "  X6_nm[col[j]] = std_scaler.fit_transform(X6_nm[col[j]].values.reshape(-1,1))\n",
        "\n",
        "X6_nm = pd.DataFrame(X6_nm)"
      ],
      "metadata": {
        "id": "fl2IFZOIyUog"
      },
      "execution_count": null,
      "outputs": []
    },
    {
      "cell_type": "markdown",
      "source": [
        "dados balanceados"
      ],
      "metadata": {
        "id": "9ipjBR6nVRJy"
      }
    },
    {
      "cell_type": "code",
      "source": [
        "colors = [\"#0101DF\", \"#DF0101\"]\n",
        "sns.countplot(Y6_nm, palette=colors)\n",
        "plt.title('Perigo \\n (0: Não  || 1: Sim)', fontsize=14)"
      ],
      "metadata": {
        "id": "e2jZhvPGwwTP",
        "colab": {
          "base_uri": "https://localhost:8080/",
          "height": 330
        },
        "outputId": "0d31bffb-16fa-461d-a750-083578a3b600"
      },
      "execution_count": null,
      "outputs": [
        {
          "output_type": "execute_result",
          "data": {
            "text/plain": [
              "Text(0.5, 1.0, 'Perigo \\n (0: Não  || 1: Sim)')"
            ]
          },
          "metadata": {},
          "execution_count": 27
        },
        {
          "output_type": "display_data",
          "data": {
            "text/plain": [
              "<Figure size 432x288 with 1 Axes>"
            ],
            "image/png": "[encoded data removed]"
          },
          "metadata": {
            "needs_background": "light"
          }
        }
      ]
    },
    {
      "cell_type": "markdown",
      "source": [
        "resultados"
      ],
      "metadata": {
        "id": "auHa7lziVS5q"
      }
    },
    {
      "cell_type": "code",
      "source": [
        "score6,mean6,std6 = ai_method_compare(X6_nm,Y6_nm)"
      ],
      "metadata": {
        "id": "ta8SfIsQAEB5",
        "colab": {
          "base_uri": "https://localhost:8080/"
        },
        "outputId": "dfbd5208-c208-4fd8-bbfe-1fa0199011d0"
      },
      "execution_count": null,
      "outputs": [
        {
          "output_type": "stream",
          "name": "stdout",
          "text": [
            "arvore: 81.20475113122171%, knn: 83.99886877828054%, mlp: 86.48190045248867%, naive bayes: 83.69343891402717%\n"
          ]
        }
      ]
    },
    {
      "cell_type": "markdown",
      "source": [
        "# Dataset7\n"
      ],
      "metadata": {
        "id": "fMcgJA0SyXDX"
      }
    },
    {
      "cell_type": "code",
      "source": [
        "data7 = pd.read_csv('/content/drive/Shareddrives/IA/Datasets/mobile_train.csv')\n",
        "sns.countplot(data7['price_range']) ## já balanceado\n",
        "\n",
        "X7 = data7.drop('price_range', axis=1)\n",
        "y7 = data7['price_range']\n",
        "col=X7.columns\n",
        "\n",
        "for j in range(len(col)):\n",
        "  X7[col[j]] = std_scaler.fit_transform(X7[col[j]].values.reshape(-1,1))\n",
        "\n",
        "X7 = pd.DataFrame(X7)\n",
        "\n",
        "sns.countplot(y7)"
      ],
      "metadata": {
        "id": "JjUeTDLQybWX",
        "colab": {
          "base_uri": "https://localhost:8080/",
          "height": 297
        },
        "outputId": "e59925b0-345a-4f54-ade2-6c0fa5523ccd"
      },
      "execution_count": null,
      "outputs": [
        {
          "output_type": "execute_result",
          "data": {
            "text/plain": [
              "<matplotlib.axes._subplots.AxesSubplot at 0x7f94ed10b410>"
            ]
          },
          "metadata": {},
          "execution_count": 29
        },
        {
          "output_type": "display_data",
          "data": {
            "text/plain": [
              "<Figure size 432x288 with 1 Axes>"
            ],
            "image/png": "[encoded data removed]"
          },
          "metadata": {
            "needs_background": "light"
          }
        }
      ]
    },
    {
      "cell_type": "markdown",
      "source": [
        "dados já estavam balanceados quando obtidos"
      ],
      "metadata": {
        "id": "K1xIW4hZVf3D"
      }
    },
    {
      "cell_type": "code",
      "source": [
        "score7,mean7,std7 = ai_method_compare(X7,y7)"
      ],
      "metadata": {
        "id": "zhUe37303fTA",
        "colab": {
          "base_uri": "https://localhost:8080/"
        },
        "outputId": "d6e1769b-dd8d-477b-9fe8-27faf275b10a"
      },
      "execution_count": null,
      "outputs": [
        {
          "output_type": "stream",
          "name": "stdout",
          "text": [
            "arvore: 83.65%, knn: 54.800000000000004%, mlp: 91.85000000000001%, naive bayes: 81.2%\n"
          ]
        }
      ]
    },
    {
      "cell_type": "markdown",
      "source": [
        "# Dataset8\n"
      ],
      "metadata": {
        "id": "AWDrMzihyb6X"
      }
    },
    {
      "cell_type": "code",
      "source": [
        "data8=pd.read_csv('/content/drive/Shareddrives/IA/Datasets/bank-full.csv',';')\n",
        "\n",
        "data8"
      ],
      "metadata": {
        "id": "CWsBNvLZyfPb",
        "colab": {
          "base_uri": "https://localhost:8080/",
          "height": 424
        },
        "outputId": "f901d688-0e1c-446c-caf6-fd0dd84248a9"
      },
      "execution_count": null,
      "outputs": [
        {
          "output_type": "execute_result",
          "data": {
            "text/plain": [
              "       age           job   marital  education default  balance housing loan  \\\n",
              "0       58    management   married   tertiary      no     2143     yes   no   \n",
              "1       44    technician    single  secondary      no       29     yes   no   \n",
              "2       33  entrepreneur   married  secondary      no        2     yes  yes   \n",
              "3       47   blue-collar   married    unknown      no     1506     yes   no   \n",
              "4       33       unknown    single    unknown      no        1      no   no   \n",
              "...    ...           ...       ...        ...     ...      ...     ...  ...   \n",
              "45206   51    technician   married   tertiary      no      825      no   no   \n",
              "45207   71       retired  divorced    primary      no     1729      no   no   \n",
              "45208   72       retired   married  secondary      no     5715      no   no   \n",
              "45209   57   blue-collar   married  secondary      no      668      no   no   \n",
              "45210   37  entrepreneur   married  secondary      no     2971      no   no   \n",
              "\n",
              "         contact  day month  duration  campaign  pdays  previous poutcome    y  \n",
              "0        unknown    5   may       261         1     -1         0  unknown   no  \n",
              "1        unknown    5   may       151         1     -1         0  unknown   no  \n",
              "2        unknown    5   may        76         1     -1         0  unknown   no  \n",
              "3        unknown    5   may        92         1     -1         0  unknown   no  \n",
              "4        unknown    5   may       198         1     -1         0  unknown   no  \n",
              "...          ...  ...   ...       ...       ...    ...       ...      ...  ...  \n",
              "45206   cellular   17   nov       977         3     -1         0  unknown  yes  \n",
              "45207   cellular   17   nov       456         2     -1         0  unknown  yes  \n",
              "45208   cellular   17   nov      1127         5    184         3  success  yes  \n",
              "45209  telephone   17   nov       508         4     -1         0  unknown   no  \n",
              "45210   cellular   17   nov       361         2    188        11    other   no  \n",
              "\n",
              "[45211 rows x 17 columns]"
            ],
            "text/html": [
              "\n",
              "  <div id=\"df-8e863c05-9692-4040-a251-1b87c686c42f\">\n",
              "    <div class=\"colab-df-container\">\n",
              "      <div>\n",
              "<style scoped>\n",
              "    .dataframe tbody tr th:only-of-type {\n",
              "        vertical-align: middle;\n",
              "    }\n",
              "\n",
              "    .dataframe tbody tr th {\n",
              "        vertical-align: top;\n",
              "    }\n",
              "\n",
              "    .dataframe thead th {\n",
              "        text-align: right;\n",
              "    }\n",
              "</style>\n",
              "<table border=\"1\" class=\"dataframe\">\n",
              "  <thead>\n",
              "    <tr style=\"text-align: right;\">\n",
              "      <th></th>\n",
              "      <th>age</th>\n",
              "      <th>job</th>\n",
              "      <th>marital</th>\n",
              "      <th>education</th>\n",
              "      <th>default</th>\n",
              "      <th>balance</th>\n",
              "      <th>housing</th>\n",
              "      <th>loan</th>\n",
              "      <th>contact</th>\n",
              "      <th>day</th>\n",
              "      <th>month</th>\n",
              "      <th>duration</th>\n",
              "      <th>campaign</th>\n",
              "      <th>pdays</th>\n",
              "      <th>previous</th>\n",
              "      <th>poutcome</th>\n",
              "      <th>y</th>\n",
              "    </tr>\n",
              "  </thead>\n",
              "  <tbody>\n",
              "    <tr>\n",
              "      <th>0</th>\n",
              "      <td>58</td>\n",
              "      <td>management</td>\n",
              "      <td>married</td>\n",
              "      <td>tertiary</td>\n",
              "      <td>no</td>\n",
              "      <td>2143</td>\n",
              "      <td>yes</td>\n",
              "      <td>no</td>\n",
              "      <td>unknown</td>\n",
              "      <td>5</td>\n",
              "      <td>may</td>\n",
              "      <td>261</td>\n",
              "      <td>1</td>\n",
              "      <td>-1</td>\n",
              "      <td>0</td>\n",
              "      <td>unknown</td>\n",
              "      <td>no</td>\n",
              "    </tr>\n",
              "    <tr>\n",
              "      <th>1</th>\n",
              "      <td>44</td>\n",
              "      <td>technician</td>\n",
              "      <td>single</td>\n",
              "      <td>secondary</td>\n",
              "      <td>no</td>\n",
              "      <td>29</td>\n",
              "      <td>yes</td>\n",
              "      <td>no</td>\n",
              "      <td>unknown</td>\n",
              "      <td>5</td>\n",
              "      <td>may</td>\n",
              "      <td>151</td>\n",
              "      <td>1</td>\n",
              "      <td>-1</td>\n",
              "      <td>0</td>\n",
              "      <td>unknown</td>\n",
              "      <td>no</td>\n",
              "    </tr>\n",
              "    <tr>\n",
              "      <th>2</th>\n",
              "      <td>33</td>\n",
              "      <td>entrepreneur</td>\n",
              "      <td>married</td>\n",
              "      <td>secondary</td>\n",
              "      <td>no</td>\n",
              "      <td>2</td>\n",
              "      <td>yes</td>\n",
              "      <td>yes</td>\n",
              "      <td>unknown</td>\n",
              "      <td>5</td>\n",
              "      <td>may</td>\n",
              "      <td>76</td>\n",
              "      <td>1</td>\n",
              "      <td>-1</td>\n",
              "      <td>0</td>\n",
              "      <td>unknown</td>\n",
              "      <td>no</td>\n",
              "    </tr>\n",
              "    <tr>\n",
              "      <th>3</th>\n",
              "      <td>47</td>\n",
              "      <td>blue-collar</td>\n",
              "      <td>married</td>\n",
              "      <td>unknown</td>\n",
              "      <td>no</td>\n",
              "      <td>1506</td>\n",
              "      <td>yes</td>\n",
              "      <td>no</td>\n",
              "      <td>unknown</td>\n",
              "      <td>5</td>\n",
              "      <td>may</td>\n",
              "      <td>92</td>\n",
              "      <td>1</td>\n",
              "      <td>-1</td>\n",
              "      <td>0</td>\n",
              "      <td>unknown</td>\n",
              "      <td>no</td>\n",
              "    </tr>\n",
              "    <tr>\n",
              "      <th>4</th>\n",
              "      <td>33</td>\n",
              "      <td>unknown</td>\n",
              "      <td>single</td>\n",
              "      <td>unknown</td>\n",
              "      <td>no</td>\n",
              "      <td>1</td>\n",
              "      <td>no</td>\n",
              "      <td>no</td>\n",
              "      <td>unknown</td>\n",
              "      <td>5</td>\n",
              "      <td>may</td>\n",
              "      <td>198</td>\n",
              "      <td>1</td>\n",
              "      <td>-1</td>\n",
              "      <td>0</td>\n",
              "      <td>unknown</td>\n",
              "      <td>no</td>\n",
              "    </tr>\n",
              "    <tr>\n",
              "      <th>...</th>\n",
              "      <td>...</td>\n",
              "      <td>...</td>\n",
              "      <td>...</td>\n",
              "      <td>...</td>\n",
              "      <td>...</td>\n",
              "      <td>...</td>\n",
              "      <td>...</td>\n",
              "      <td>...</td>\n",
              "      <td>...</td>\n",
              "      <td>...</td>\n",
              "      <td>...</td>\n",
              "      <td>...</td>\n",
              "      <td>...</td>\n",
              "      <td>...</td>\n",
              "      <td>...</td>\n",
              "      <td>...</td>\n",
              "      <td>...</td>\n",
              "    </tr>\n",
              "    <tr>\n",
              "      <th>45206</th>\n",
              "      <td>51</td>\n",
              "      <td>technician</td>\n",
              "      <td>married</td>\n",
              "      <td>tertiary</td>\n",
              "      <td>no</td>\n",
              "      <td>825</td>\n",
              "      <td>no</td>\n",
              "      <td>no</td>\n",
              "      <td>cellular</td>\n",
              "      <td>17</td>\n",
              "      <td>nov</td>\n",
              "      <td>977</td>\n",
              "      <td>3</td>\n",
              "      <td>-1</td>\n",
              "      <td>0</td>\n",
              "      <td>unknown</td>\n",
              "      <td>yes</td>\n",
              "    </tr>\n",
              "    <tr>\n",
              "      <th>45207</th>\n",
              "      <td>71</td>\n",
              "      <td>retired</td>\n",
              "      <td>divorced</td>\n",
              "      <td>primary</td>\n",
              "      <td>no</td>\n",
              "      <td>1729</td>\n",
              "      <td>no</td>\n",
              "      <td>no</td>\n",
              "      <td>cellular</td>\n",
              "      <td>17</td>\n",
              "      <td>nov</td>\n",
              "      <td>456</td>\n",
              "      <td>2</td>\n",
              "      <td>-1</td>\n",
              "      <td>0</td>\n",
              "      <td>unknown</td>\n",
              "      <td>yes</td>\n",
              "    </tr>\n",
              "    <tr>\n",
              "      <th>45208</th>\n",
              "      <td>72</td>\n",
              "      <td>retired</td>\n",
              "      <td>married</td>\n",
              "      <td>secondary</td>\n",
              "      <td>no</td>\n",
              "      <td>5715</td>\n",
              "      <td>no</td>\n",
              "      <td>no</td>\n",
              "      <td>cellular</td>\n",
              "      <td>17</td>\n",
              "      <td>nov</td>\n",
              "      <td>1127</td>\n",
              "      <td>5</td>\n",
              "      <td>184</td>\n",
              "      <td>3</td>\n",
              "      <td>success</td>\n",
              "      <td>yes</td>\n",
              "    </tr>\n",
              "    <tr>\n",
              "      <th>45209</th>\n",
              "      <td>57</td>\n",
              "      <td>blue-collar</td>\n",
              "      <td>married</td>\n",
              "      <td>secondary</td>\n",
              "      <td>no</td>\n",
              "      <td>668</td>\n",
              "      <td>no</td>\n",
              "      <td>no</td>\n",
              "      <td>telephone</td>\n",
              "      <td>17</td>\n",
              "      <td>nov</td>\n",
              "      <td>508</td>\n",
              "      <td>4</td>\n",
              "      <td>-1</td>\n",
              "      <td>0</td>\n",
              "      <td>unknown</td>\n",
              "      <td>no</td>\n",
              "    </tr>\n",
              "    <tr>\n",
              "      <th>45210</th>\n",
              "      <td>37</td>\n",
              "      <td>entrepreneur</td>\n",
              "      <td>married</td>\n",
              "      <td>secondary</td>\n",
              "      <td>no</td>\n",
              "      <td>2971</td>\n",
              "      <td>no</td>\n",
              "      <td>no</td>\n",
              "      <td>cellular</td>\n",
              "      <td>17</td>\n",
              "      <td>nov</td>\n",
              "      <td>361</td>\n",
              "      <td>2</td>\n",
              "      <td>188</td>\n",
              "      <td>11</td>\n",
              "      <td>other</td>\n",
              "      <td>no</td>\n",
              "    </tr>\n",
              "  </tbody>\n",
              "</table>\n",
              "<p>45211 rows × 17 columns</p>\n",
              "</div>\n",
              "      <button class=\"colab-df-convert\" onclick=\"convertToInteractive('df-8e863c05-9692-4040-a251-1b87c686c42f')\"\n",
              "              title=\"Convert this dataframe to an interactive table.\"\n",
              "              style=\"display:none;\">\n",
              "        \n",
              "  <svg xmlns=\"http://www.w3.org/2000/svg\" height=\"24px\"viewBox=\"0 0 24 24\"\n",
              "       width=\"24px\">\n",
              "    <path d=\"M0 0h24v24H0V0z\" fill=\"none\"/>\n",
              "    <path d=\"M18.56 5.44l.94 2.06.94-2.06 2.06-.94-2.06-.94-.94-2.06-.94 2.06-2.06.94zm-11 1L8.5 8.5l.94-2.06 2.06-.94-2.06-.94L8.5 2.5l-.94 2.06-2.06.94zm10 10l.94 2.06.94-2.06 2.06-.94-2.06-.94-.94-2.06-.94 2.06-2.06.94z\"/><path d=\"M17.41 7.96l-1.37-1.37c-.4-.4-.92-.59-1.43-.59-.52 0-1.04.2-1.43.59L10.3 9.45l-7.72 7.72c-.78.78-.78 2.05 0 2.83L4 21.41c.39.39.9.59 1.41.59.51 0 1.02-.2 1.41-.59l7.78-7.78 2.81-2.81c.8-.78.8-2.07 0-2.86zM5.41 20L4 18.59l7.72-7.72 1.47 1.35L5.41 20z\"/>\n",
              "  </svg>\n",
              "      </button>\n",
              "      \n",
              "  <style>\n",
              "    .colab-df-container {\n",
              "      display:flex;\n",
              "      flex-wrap:wrap;\n",
              "      gap: 12px;\n",
              "    }\n",
              "\n",
              "    .colab-df-convert {\n",
              "      background-color: #E8F0FE;\n",
              "      border: none;\n",
              "      border-radius: 50%;\n",
              "      cursor: pointer;\n",
              "      display: none;\n",
              "      fill: #1967D2;\n",
              "      height: 32px;\n",
              "      padding: 0 0 0 0;\n",
              "      width: 32px;\n",
              "    }\n",
              "\n",
              "    .colab-df-convert:hover {\n",
              "      background-color: #E2EBFA;\n",
              "      box-shadow: 0px 1px 2px rgba(60, 64, 67, 0.3), 0px 1px 3px 1px rgba(60, 64, 67, 0.15);\n",
              "      fill: #174EA6;\n",
              "    }\n",
              "\n",
              "    [theme=dark] .colab-df-convert {\n",
              "      background-color: #3B4455;\n",
              "      fill: #D2E3FC;\n",
              "    }\n",
              "\n",
              "    [theme=dark] .colab-df-convert:hover {\n",
              "      background-color: #434B5C;\n",
              "      box-shadow: 0px 1px 3px 1px rgba(0, 0, 0, 0.15);\n",
              "      filter: drop-shadow(0px 1px 2px rgba(0, 0, 0, 0.3));\n",
              "      fill: #FFFFFF;\n",
              "    }\n",
              "  </style>\n",
              "\n",
              "      <script>\n",
              "        const buttonEl =\n",
              "          document.querySelector('#df-8e863c05-9692-4040-a251-1b87c686c42f button.colab-df-convert');\n",
              "        buttonEl.style.display =\n",
              "          google.colab.kernel.accessAllowed ? 'block' : 'none';\n",
              "\n",
              "        async function convertToInteractive(key) {\n",
              "          const element = document.querySelector('#df-8e863c05-9692-4040-a251-1b87c686c42f');\n",
              "          const dataTable =\n",
              "            await google.colab.kernel.invokeFunction('convertToInteractive',\n",
              "                                                     [key], {});\n",
              "          if (!dataTable) return;\n",
              "\n",
              "          const docLinkHtml = 'Like what you see? Visit the ' +\n",
              "            '<a target=\"_blank\" href=https://colab.research.google.com/notebooks/data_table.ipynb>data table notebook</a>'\n",
              "            + ' to learn more about interactive tables.';\n",
              "          element.innerHTML = '';\n",
              "          dataTable['output_type'] = 'display_data';\n",
              "          await google.colab.output.renderOutput(dataTable, element);\n",
              "          const docLink = document.createElement('div');\n",
              "          docLink.innerHTML = docLinkHtml;\n",
              "          element.appendChild(docLink);\n",
              "        }\n",
              "      </script>\n",
              "    </div>\n",
              "  </div>\n",
              "  "
            ]
          },
          "metadata": {},
          "execution_count": 31
        }
      ]
    },
    {
      "cell_type": "code",
      "source": [
        "data8[\"default\"]=data8[\"default\"].map({\"no\":0,\"yes\":1})\n",
        "data8[\"housing\"]=data8[\"housing\"].map({\"no\":0,\"yes\":1})\n",
        "data8[\"loan\"]=data8[\"loan\"].map({\"no\":0 ,\"yes\":1})\n",
        "data8[\"y\"]=data8[\"y\"].map({\"no\":0,\"yes\":1})\n",
        "data8.education = data8.education.map({\"primary\":0, \"secondary\":1,\"tertiary\":2})\n",
        "data8.poutcome=data8.poutcome.map({\"unknown\":0, \"failure\":1,\"other\":2,\"success\":3})\n",
        "data8.contact=data8.contact.map({\"cellular\":0, \"unknown\":1,\"telephone\":2})\n",
        "data8.month = pd.to_datetime(data8.month, format = \"%b\").dt.month"
      ],
      "metadata": {
        "id": "pap_d369ZcDM"
      },
      "execution_count": null,
      "outputs": []
    },
    {
      "cell_type": "markdown",
      "source": [
        "Elimando os valores faltantes e organizando os valores categórica"
      ],
      "metadata": {
        "id": "aJv2_6aEcmkq"
      }
    },
    {
      "cell_type": "code",
      "source": [
        "data8.dropna(inplace = True)\n",
        "data8 = pd.get_dummies(data8)\n",
        "data8.head()\n"
      ],
      "metadata": {
        "id": "bKHZZM8ac-W-",
        "colab": {
          "base_uri": "https://localhost:8080/",
          "height": 317
        },
        "outputId": "40685b36-fce6-4a0a-da46-5eb1c3d3070c"
      },
      "execution_count": null,
      "outputs": [
        {
          "output_type": "execute_result",
          "data": {
            "text/plain": [
              "   age  education  default  balance  housing  loan  contact  day  month  \\\n",
              "0   58        2.0        0     2143        1     0        1    5      5   \n",
              "1   44        1.0        0       29        1     0        1    5      5   \n",
              "2   33        1.0        0        2        1     1        1    5      5   \n",
              "5   35        2.0        0      231        1     0        1    5      5   \n",
              "6   28        2.0        0      447        1     1        1    5      5   \n",
              "\n",
              "   duration  ...  job_retired  job_self-employed  job_services  job_student  \\\n",
              "0       261  ...            0                  0             0            0   \n",
              "1       151  ...            0                  0             0            0   \n",
              "2        76  ...            0                  0             0            0   \n",
              "5       139  ...            0                  0             0            0   \n",
              "6       217  ...            0                  0             0            0   \n",
              "\n",
              "   job_technician  job_unemployed  job_unknown  marital_divorced  \\\n",
              "0               0               0            0                 0   \n",
              "1               1               0            0                 0   \n",
              "2               0               0            0                 0   \n",
              "5               0               0            0                 0   \n",
              "6               0               0            0                 0   \n",
              "\n",
              "   marital_married  marital_single  \n",
              "0                1               0  \n",
              "1                0               1  \n",
              "2                1               0  \n",
              "5                1               0  \n",
              "6                0               1  \n",
              "\n",
              "[5 rows x 30 columns]"
            ],
            "text/html": [
              "\n",
              "  <div id=\"df-163b347a-a768-4fe2-9d87-8eeba74cccb8\">\n",
              "    <div class=\"colab-df-container\">\n",
              "      <div>\n",
              "<style scoped>\n",
              "    .dataframe tbody tr th:only-of-type {\n",
              "        vertical-align: middle;\n",
              "    }\n",
              "\n",
              "    .dataframe tbody tr th {\n",
              "        vertical-align: top;\n",
              "    }\n",
              "\n",
              "    .dataframe thead th {\n",
              "        text-align: right;\n",
              "    }\n",
              "</style>\n",
              "<table border=\"1\" class=\"dataframe\">\n",
              "  <thead>\n",
              "    <tr style=\"text-align: right;\">\n",
              "      <th></th>\n",
              "      <th>age</th>\n",
              "      <th>education</th>\n",
              "      <th>default</th>\n",
              "      <th>balance</th>\n",
              "      <th>housing</th>\n",
              "      <th>loan</th>\n",
              "      <th>contact</th>\n",
              "      <th>day</th>\n",
              "      <th>month</th>\n",
              "      <th>duration</th>\n",
              "      <th>...</th>\n",
              "      <th>job_retired</th>\n",
              "      <th>job_self-employed</th>\n",
              "      <th>job_services</th>\n",
              "      <th>job_student</th>\n",
              "      <th>job_technician</th>\n",
              "      <th>job_unemployed</th>\n",
              "      <th>job_unknown</th>\n",
              "      <th>marital_divorced</th>\n",
              "      <th>marital_married</th>\n",
              "      <th>marital_single</th>\n",
              "    </tr>\n",
              "  </thead>\n",
              "  <tbody>\n",
              "    <tr>\n",
              "      <th>0</th>\n",
              "      <td>58</td>\n",
              "      <td>2.0</td>\n",
              "      <td>0</td>\n",
              "      <td>2143</td>\n",
              "      <td>1</td>\n",
              "      <td>0</td>\n",
              "      <td>1</td>\n",
              "      <td>5</td>\n",
              "      <td>5</td>\n",
              "      <td>261</td>\n",
              "      <td>...</td>\n",
              "      <td>0</td>\n",
              "      <td>0</td>\n",
              "      <td>0</td>\n",
              "      <td>0</td>\n",
              "      <td>0</td>\n",
              "      <td>0</td>\n",
              "      <td>0</td>\n",
              "      <td>0</td>\n",
              "      <td>1</td>\n",
              "      <td>0</td>\n",
              "    </tr>\n",
              "    <tr>\n",
              "      <th>1</th>\n",
              "      <td>44</td>\n",
              "      <td>1.0</td>\n",
              "      <td>0</td>\n",
              "      <td>29</td>\n",
              "      <td>1</td>\n",
              "      <td>0</td>\n",
              "      <td>1</td>\n",
              "      <td>5</td>\n",
              "      <td>5</td>\n",
              "      <td>151</td>\n",
              "      <td>...</td>\n",
              "      <td>0</td>\n",
              "      <td>0</td>\n",
              "      <td>0</td>\n",
              "      <td>0</td>\n",
              "      <td>1</td>\n",
              "      <td>0</td>\n",
              "      <td>0</td>\n",
              "      <td>0</td>\n",
              "      <td>0</td>\n",
              "      <td>1</td>\n",
              "    </tr>\n",
              "    <tr>\n",
              "      <th>2</th>\n",
              "      <td>33</td>\n",
              "      <td>1.0</td>\n",
              "      <td>0</td>\n",
              "      <td>2</td>\n",
              "      <td>1</td>\n",
              "      <td>1</td>\n",
              "      <td>1</td>\n",
              "      <td>5</td>\n",
              "      <td>5</td>\n",
              "      <td>76</td>\n",
              "      <td>...</td>\n",
              "      <td>0</td>\n",
              "      <td>0</td>\n",
              "      <td>0</td>\n",
              "      <td>0</td>\n",
              "      <td>0</td>\n",
              "      <td>0</td>\n",
              "      <td>0</td>\n",
              "      <td>0</td>\n",
              "      <td>1</td>\n",
              "      <td>0</td>\n",
              "    </tr>\n",
              "    <tr>\n",
              "      <th>5</th>\n",
              "      <td>35</td>\n",
              "      <td>2.0</td>\n",
              "      <td>0</td>\n",
              "      <td>231</td>\n",
              "      <td>1</td>\n",
              "      <td>0</td>\n",
              "      <td>1</td>\n",
              "      <td>5</td>\n",
              "      <td>5</td>\n",
              "      <td>139</td>\n",
              "      <td>...</td>\n",
              "      <td>0</td>\n",
              "      <td>0</td>\n",
              "      <td>0</td>\n",
              "      <td>0</td>\n",
              "      <td>0</td>\n",
              "      <td>0</td>\n",
              "      <td>0</td>\n",
              "      <td>0</td>\n",
              "      <td>1</td>\n",
              "      <td>0</td>\n",
              "    </tr>\n",
              "    <tr>\n",
              "      <th>6</th>\n",
              "      <td>28</td>\n",
              "      <td>2.0</td>\n",
              "      <td>0</td>\n",
              "      <td>447</td>\n",
              "      <td>1</td>\n",
              "      <td>1</td>\n",
              "      <td>1</td>\n",
              "      <td>5</td>\n",
              "      <td>5</td>\n",
              "      <td>217</td>\n",
              "      <td>...</td>\n",
              "      <td>0</td>\n",
              "      <td>0</td>\n",
              "      <td>0</td>\n",
              "      <td>0</td>\n",
              "      <td>0</td>\n",
              "      <td>0</td>\n",
              "      <td>0</td>\n",
              "      <td>0</td>\n",
              "      <td>0</td>\n",
              "      <td>1</td>\n",
              "    </tr>\n",
              "  </tbody>\n",
              "</table>\n",
              "<p>5 rows × 30 columns</p>\n",
              "</div>\n",
              "      <button class=\"colab-df-convert\" onclick=\"convertToInteractive('df-163b347a-a768-4fe2-9d87-8eeba74cccb8')\"\n",
              "              title=\"Convert this dataframe to an interactive table.\"\n",
              "              style=\"display:none;\">\n",
              "        \n",
              "  <svg xmlns=\"http://www.w3.org/2000/svg\" height=\"24px\"viewBox=\"0 0 24 24\"\n",
              "       width=\"24px\">\n",
              "    <path d=\"M0 0h24v24H0V0z\" fill=\"none\"/>\n",
              "    <path d=\"M18.56 5.44l.94 2.06.94-2.06 2.06-.94-2.06-.94-.94-2.06-.94 2.06-2.06.94zm-11 1L8.5 8.5l.94-2.06 2.06-.94-2.06-.94L8.5 2.5l-.94 2.06-2.06.94zm10 10l.94 2.06.94-2.06 2.06-.94-2.06-.94-.94-2.06-.94 2.06-2.06.94z\"/><path d=\"M17.41 7.96l-1.37-1.37c-.4-.4-.92-.59-1.43-.59-.52 0-1.04.2-1.43.59L10.3 9.45l-7.72 7.72c-.78.78-.78 2.05 0 2.83L4 21.41c.39.39.9.59 1.41.59.51 0 1.02-.2 1.41-.59l7.78-7.78 2.81-2.81c.8-.78.8-2.07 0-2.86zM5.41 20L4 18.59l7.72-7.72 1.47 1.35L5.41 20z\"/>\n",
              "  </svg>\n",
              "      </button>\n",
              "      \n",
              "  <style>\n",
              "    .colab-df-container {\n",
              "      display:flex;\n",
              "      flex-wrap:wrap;\n",
              "      gap: 12px;\n",
              "    }\n",
              "\n",
              "    .colab-df-convert {\n",
              "      background-color: #E8F0FE;\n",
              "      border: none;\n",
              "      border-radius: 50%;\n",
              "      cursor: pointer;\n",
              "      display: none;\n",
              "      fill: #1967D2;\n",
              "      height: 32px;\n",
              "      padding: 0 0 0 0;\n",
              "      width: 32px;\n",
              "    }\n",
              "\n",
              "    .colab-df-convert:hover {\n",
              "      background-color: #E2EBFA;\n",
              "      box-shadow: 0px 1px 2px rgba(60, 64, 67, 0.3), 0px 1px 3px 1px rgba(60, 64, 67, 0.15);\n",
              "      fill: #174EA6;\n",
              "    }\n",
              "\n",
              "    [theme=dark] .colab-df-convert {\n",
              "      background-color: #3B4455;\n",
              "      fill: #D2E3FC;\n",
              "    }\n",
              "\n",
              "    [theme=dark] .colab-df-convert:hover {\n",
              "      background-color: #434B5C;\n",
              "      box-shadow: 0px 1px 3px 1px rgba(0, 0, 0, 0.15);\n",
              "      filter: drop-shadow(0px 1px 2px rgba(0, 0, 0, 0.3));\n",
              "      fill: #FFFFFF;\n",
              "    }\n",
              "  </style>\n",
              "\n",
              "      <script>\n",
              "        const buttonEl =\n",
              "          document.querySelector('#df-163b347a-a768-4fe2-9d87-8eeba74cccb8 button.colab-df-convert');\n",
              "        buttonEl.style.display =\n",
              "          google.colab.kernel.accessAllowed ? 'block' : 'none';\n",
              "\n",
              "        async function convertToInteractive(key) {\n",
              "          const element = document.querySelector('#df-163b347a-a768-4fe2-9d87-8eeba74cccb8');\n",
              "          const dataTable =\n",
              "            await google.colab.kernel.invokeFunction('convertToInteractive',\n",
              "                                                     [key], {});\n",
              "          if (!dataTable) return;\n",
              "\n",
              "          const docLinkHtml = 'Like what you see? Visit the ' +\n",
              "            '<a target=\"_blank\" href=https://colab.research.google.com/notebooks/data_table.ipynb>data table notebook</a>'\n",
              "            + ' to learn more about interactive tables.';\n",
              "          element.innerHTML = '';\n",
              "          dataTable['output_type'] = 'display_data';\n",
              "          await google.colab.output.renderOutput(dataTable, element);\n",
              "          const docLink = document.createElement('div');\n",
              "          docLink.innerHTML = docLinkHtml;\n",
              "          element.appendChild(docLink);\n",
              "        }\n",
              "      </script>\n",
              "    </div>\n",
              "  </div>\n",
              "  "
            ]
          },
          "metadata": {},
          "execution_count": 33
        }
      ]
    },
    {
      "cell_type": "code",
      "source": [
        "colors = [\"#0101DF\", \"#DF0101\"]\n",
        "sns.countplot('y', data=data8, palette=colors)\n",
        "plt.title('Aprovação de crédito \\n (0: Não aprovado || 1: Aprovado)', fontsize=14)\n",
        "\n"
      ],
      "metadata": {
        "id": "Udb3yfFBd1j1",
        "colab": {
          "base_uri": "https://localhost:8080/",
          "height": 330
        },
        "outputId": "f0b9e044-6b4f-4c29-bebd-f6b870ff50bf"
      },
      "execution_count": null,
      "outputs": [
        {
          "output_type": "execute_result",
          "data": {
            "text/plain": [
              "Text(0.5, 1.0, 'Aprovação de crédito \\n (0: Não aprovado || 1: Aprovado)')"
            ]
          },
          "metadata": {},
          "execution_count": 34
        },
        {
          "output_type": "display_data",
          "data": {
            "text/plain": [
              "<Figure size 432x288 with 1 Axes>"
            ],
            "image/png": "[encoded data removed]"
          },
          "metadata": {
            "needs_background": "light"
          }
        }
      ]
    },
    {
      "cell_type": "markdown",
      "source": [
        "Balanceamento do dataset atraves do NearMiss (Undersampling)"
      ],
      "metadata": {
        "id": "pWo0y6gFkyf2"
      }
    },
    {
      "cell_type": "code",
      "source": [
        "X = data8.drop(\"y\", axis =1)\n",
        "y = data8.y\n",
        "\n",
        "X, y=  NS.fit_resample(X,y)\n",
        "ax=sns.countplot(x=y)"
      ],
      "metadata": {
        "id": "Orf7gk5kk5PB",
        "colab": {
          "base_uri": "https://localhost:8080/",
          "height": 279
        },
        "outputId": "e1922458-b949-4174-c4cb-4093bb8894bb"
      },
      "execution_count": null,
      "outputs": [
        {
          "output_type": "display_data",
          "data": {
            "text/plain": [
              "<Figure size 432x288 with 1 Axes>"
            ],
            "image/png": "[encoded data removed]"
          },
          "metadata": {
            "needs_background": "light"
          }
        }
      ]
    },
    {
      "cell_type": "markdown",
      "source": [
        "Aplicando os algortimos de classificação"
      ],
      "metadata": {
        "id": "bLI5uTExrJm8"
      }
    },
    {
      "cell_type": "code",
      "source": [
        "score8,mean8,std8 = ai_method_compare(X,y)"
      ],
      "metadata": {
        "id": "1BtKqs01rHlb",
        "colab": {
          "base_uri": "https://localhost:8080/"
        },
        "outputId": "7be962b2-e84d-4f32-9289-99523a8b280b"
      },
      "execution_count": null,
      "outputs": [
        {
          "output_type": "stream",
          "name": "stdout",
          "text": [
            "arvore: 84.33748482842326%, knn: 87.6316873157737%, mlp: 89.58675186393657%, naive bayes: 83.56411862990811%\n"
          ]
        }
      ]
    },
    {
      "cell_type": "markdown",
      "source": [
        "# Dataset9\n"
      ],
      "metadata": {
        "id": "d1_7SjKwyfud"
      }
    },
    {
      "cell_type": "markdown",
      "source": [
        "Dataset para classifição de cogumelos comestíveis ('e'=edible) ou não ('p'=poisonous) atráves de características físicas."
      ],
      "metadata": {
        "id": "qUkjz1eGsVK3"
      }
    },
    {
      "cell_type": "code",
      "source": [
        "data9 = pd.read_csv('/content/drive/Shareddrives/IA/Datasets/mushrooms.csv')\n",
        "data9.head()"
      ],
      "metadata": {
        "id": "33loysc7yjFb",
        "colab": {
          "base_uri": "https://localhost:8080/",
          "height": 314
        },
        "outputId": "78d3f020-05a3-4480-ab89-3c6ab9227428"
      },
      "execution_count": null,
      "outputs": [
        {
          "output_type": "execute_result",
          "data": {
            "text/plain": [
              "  class cap-shape cap-surface cap-color bruises odor gill-attachment  \\\n",
              "0     p         x           s         n       t    p               f   \n",
              "1     e         x           s         y       t    a               f   \n",
              "2     e         b           s         w       t    l               f   \n",
              "3     p         x           y         w       t    p               f   \n",
              "4     e         x           s         g       f    n               f   \n",
              "\n",
              "  gill-spacing gill-size gill-color  ... stalk-surface-below-ring  \\\n",
              "0            c         n          k  ...                        s   \n",
              "1            c         b          k  ...                        s   \n",
              "2            c         b          n  ...                        s   \n",
              "3            c         n          n  ...                        s   \n",
              "4            w         b          k  ...                        s   \n",
              "\n",
              "  stalk-color-above-ring stalk-color-below-ring veil-type veil-color  \\\n",
              "0                      w                      w         p          w   \n",
              "1                      w                      w         p          w   \n",
              "2                      w                      w         p          w   \n",
              "3                      w                      w         p          w   \n",
              "4                      w                      w         p          w   \n",
              "\n",
              "  ring-number ring-type spore-print-color population habitat  \n",
              "0           o         p                 k          s       u  \n",
              "1           o         p                 n          n       g  \n",
              "2           o         p                 n          n       m  \n",
              "3           o         p                 k          s       u  \n",
              "4           o         e                 n          a       g  \n",
              "\n",
              "[5 rows x 23 columns]"
            ],
            "text/html": [
              "\n",
              "  <div id=\"df-6f62748c-c036-4225-bf0b-734b4d582c33\">\n",
              "    <div class=\"colab-df-container\">\n",
              "      <div>\n",
              "<style scoped>\n",
              "    .dataframe tbody tr th:only-of-type {\n",
              "        vertical-align: middle;\n",
              "    }\n",
              "\n",
              "    .dataframe tbody tr th {\n",
              "        vertical-align: top;\n",
              "    }\n",
              "\n",
              "    .dataframe thead th {\n",
              "        text-align: right;\n",
              "    }\n",
              "</style>\n",
              "<table border=\"1\" class=\"dataframe\">\n",
              "  <thead>\n",
              "    <tr style=\"text-align: right;\">\n",
              "      <th></th>\n",
              "      <th>class</th>\n",
              "      <th>cap-shape</th>\n",
              "      <th>cap-surface</th>\n",
              "      <th>cap-color</th>\n",
              "      <th>bruises</th>\n",
              "      <th>odor</th>\n",
              "      <th>gill-attachment</th>\n",
              "      <th>gill-spacing</th>\n",
              "      <th>gill-size</th>\n",
              "      <th>gill-color</th>\n",
              "      <th>...</th>\n",
              "      <th>stalk-surface-below-ring</th>\n",
              "      <th>stalk-color-above-ring</th>\n",
              "      <th>stalk-color-below-ring</th>\n",
              "      <th>veil-type</th>\n",
              "      <th>veil-color</th>\n",
              "      <th>ring-number</th>\n",
              "      <th>ring-type</th>\n",
              "      <th>spore-print-color</th>\n",
              "      <th>population</th>\n",
              "      <th>habitat</th>\n",
              "    </tr>\n",
              "  </thead>\n",
              "  <tbody>\n",
              "    <tr>\n",
              "      <th>0</th>\n",
              "      <td>p</td>\n",
              "      <td>x</td>\n",
              "      <td>s</td>\n",
              "      <td>n</td>\n",
              "      <td>t</td>\n",
              "      <td>p</td>\n",
              "      <td>f</td>\n",
              "      <td>c</td>\n",
              "      <td>n</td>\n",
              "      <td>k</td>\n",
              "      <td>...</td>\n",
              "      <td>s</td>\n",
              "      <td>w</td>\n",
              "      <td>w</td>\n",
              "      <td>p</td>\n",
              "      <td>w</td>\n",
              "      <td>o</td>\n",
              "      <td>p</td>\n",
              "      <td>k</td>\n",
              "      <td>s</td>\n",
              "      <td>u</td>\n",
              "    </tr>\n",
              "    <tr>\n",
              "      <th>1</th>\n",
              "      <td>e</td>\n",
              "      <td>x</td>\n",
              "      <td>s</td>\n",
              "      <td>y</td>\n",
              "      <td>t</td>\n",
              "      <td>a</td>\n",
              "      <td>f</td>\n",
              "      <td>c</td>\n",
              "      <td>b</td>\n",
              "      <td>k</td>\n",
              "      <td>...</td>\n",
              "      <td>s</td>\n",
              "      <td>w</td>\n",
              "      <td>w</td>\n",
              "      <td>p</td>\n",
              "      <td>w</td>\n",
              "      <td>o</td>\n",
              "      <td>p</td>\n",
              "      <td>n</td>\n",
              "      <td>n</td>\n",
              "      <td>g</td>\n",
              "    </tr>\n",
              "    <tr>\n",
              "      <th>2</th>\n",
              "      <td>e</td>\n",
              "      <td>b</td>\n",
              "      <td>s</td>\n",
              "      <td>w</td>\n",
              "      <td>t</td>\n",
              "      <td>l</td>\n",
              "      <td>f</td>\n",
              "      <td>c</td>\n",
              "      <td>b</td>\n",
              "      <td>n</td>\n",
              "      <td>...</td>\n",
              "      <td>s</td>\n",
              "      <td>w</td>\n",
              "      <td>w</td>\n",
              "      <td>p</td>\n",
              "      <td>w</td>\n",
              "      <td>o</td>\n",
              "      <td>p</td>\n",
              "      <td>n</td>\n",
              "      <td>n</td>\n",
              "      <td>m</td>\n",
              "    </tr>\n",
              "    <tr>\n",
              "      <th>3</th>\n",
              "      <td>p</td>\n",
              "      <td>x</td>\n",
              "      <td>y</td>\n",
              "      <td>w</td>\n",
              "      <td>t</td>\n",
              "      <td>p</td>\n",
              "      <td>f</td>\n",
              "      <td>c</td>\n",
              "      <td>n</td>\n",
              "      <td>n</td>\n",
              "      <td>...</td>\n",
              "      <td>s</td>\n",
              "      <td>w</td>\n",
              "      <td>w</td>\n",
              "      <td>p</td>\n",
              "      <td>w</td>\n",
              "      <td>o</td>\n",
              "      <td>p</td>\n",
              "      <td>k</td>\n",
              "      <td>s</td>\n",
              "      <td>u</td>\n",
              "    </tr>\n",
              "    <tr>\n",
              "      <th>4</th>\n",
              "      <td>e</td>\n",
              "      <td>x</td>\n",
              "      <td>s</td>\n",
              "      <td>g</td>\n",
              "      <td>f</td>\n",
              "      <td>n</td>\n",
              "      <td>f</td>\n",
              "      <td>w</td>\n",
              "      <td>b</td>\n",
              "      <td>k</td>\n",
              "      <td>...</td>\n",
              "      <td>s</td>\n",
              "      <td>w</td>\n",
              "      <td>w</td>\n",
              "      <td>p</td>\n",
              "      <td>w</td>\n",
              "      <td>o</td>\n",
              "      <td>e</td>\n",
              "      <td>n</td>\n",
              "      <td>a</td>\n",
              "      <td>g</td>\n",
              "    </tr>\n",
              "  </tbody>\n",
              "</table>\n",
              "<p>5 rows × 23 columns</p>\n",
              "</div>\n",
              "      <button class=\"colab-df-convert\" onclick=\"convertToInteractive('df-6f62748c-c036-4225-bf0b-734b4d582c33')\"\n",
              "              title=\"Convert this dataframe to an interactive table.\"\n",
              "              style=\"display:none;\">\n",
              "        \n",
              "  <svg xmlns=\"http://www.w3.org/2000/svg\" height=\"24px\"viewBox=\"0 0 24 24\"\n",
              "       width=\"24px\">\n",
              "    <path d=\"M0 0h24v24H0V0z\" fill=\"none\"/>\n",
              "    <path d=\"M18.56 5.44l.94 2.06.94-2.06 2.06-.94-2.06-.94-.94-2.06-.94 2.06-2.06.94zm-11 1L8.5 8.5l.94-2.06 2.06-.94-2.06-.94L8.5 2.5l-.94 2.06-2.06.94zm10 10l.94 2.06.94-2.06 2.06-.94-2.06-.94-.94-2.06-.94 2.06-2.06.94z\"/><path d=\"M17.41 7.96l-1.37-1.37c-.4-.4-.92-.59-1.43-.59-.52 0-1.04.2-1.43.59L10.3 9.45l-7.72 7.72c-.78.78-.78 2.05 0 2.83L4 21.41c.39.39.9.59 1.41.59.51 0 1.02-.2 1.41-.59l7.78-7.78 2.81-2.81c.8-.78.8-2.07 0-2.86zM5.41 20L4 18.59l7.72-7.72 1.47 1.35L5.41 20z\"/>\n",
              "  </svg>\n",
              "      </button>\n",
              "      \n",
              "  <style>\n",
              "    .colab-df-container {\n",
              "      display:flex;\n",
              "      flex-wrap:wrap;\n",
              "      gap: 12px;\n",
              "    }\n",
              "\n",
              "    .colab-df-convert {\n",
              "      background-color: #E8F0FE;\n",
              "      border: none;\n",
              "      border-radius: 50%;\n",
              "      cursor: pointer;\n",
              "      display: none;\n",
              "      fill: #1967D2;\n",
              "      height: 32px;\n",
              "      padding: 0 0 0 0;\n",
              "      width: 32px;\n",
              "    }\n",
              "\n",
              "    .colab-df-convert:hover {\n",
              "      background-color: #E2EBFA;\n",
              "      box-shadow: 0px 1px 2px rgba(60, 64, 67, 0.3), 0px 1px 3px 1px rgba(60, 64, 67, 0.15);\n",
              "      fill: #174EA6;\n",
              "    }\n",
              "\n",
              "    [theme=dark] .colab-df-convert {\n",
              "      background-color: #3B4455;\n",
              "      fill: #D2E3FC;\n",
              "    }\n",
              "\n",
              "    [theme=dark] .colab-df-convert:hover {\n",
              "      background-color: #434B5C;\n",
              "      box-shadow: 0px 1px 3px 1px rgba(0, 0, 0, 0.15);\n",
              "      filter: drop-shadow(0px 1px 2px rgba(0, 0, 0, 0.3));\n",
              "      fill: #FFFFFF;\n",
              "    }\n",
              "  </style>\n",
              "\n",
              "      <script>\n",
              "        const buttonEl =\n",
              "          document.querySelector('#df-6f62748c-c036-4225-bf0b-734b4d582c33 button.colab-df-convert');\n",
              "        buttonEl.style.display =\n",
              "          google.colab.kernel.accessAllowed ? 'block' : 'none';\n",
              "\n",
              "        async function convertToInteractive(key) {\n",
              "          const element = document.querySelector('#df-6f62748c-c036-4225-bf0b-734b4d582c33');\n",
              "          const dataTable =\n",
              "            await google.colab.kernel.invokeFunction('convertToInteractive',\n",
              "                                                     [key], {});\n",
              "          if (!dataTable) return;\n",
              "\n",
              "          const docLinkHtml = 'Like what you see? Visit the ' +\n",
              "            '<a target=\"_blank\" href=https://colab.research.google.com/notebooks/data_table.ipynb>data table notebook</a>'\n",
              "            + ' to learn more about interactive tables.';\n",
              "          element.innerHTML = '';\n",
              "          dataTable['output_type'] = 'display_data';\n",
              "          await google.colab.output.renderOutput(dataTable, element);\n",
              "          const docLink = document.createElement('div');\n",
              "          docLink.innerHTML = docLinkHtml;\n",
              "          element.appendChild(docLink);\n",
              "        }\n",
              "      </script>\n",
              "    </div>\n",
              "  </div>\n",
              "  "
            ]
          },
          "metadata": {},
          "execution_count": 37
        }
      ]
    },
    {
      "cell_type": "code",
      "source": [
        "data9.isnull().sum()"
      ],
      "metadata": {
        "id": "6P44bysmsdeI",
        "colab": {
          "base_uri": "https://localhost:8080/"
        },
        "outputId": "9dc6b91a-aeaa-4624-f789-5f0dd4b9935a"
      },
      "execution_count": null,
      "outputs": [
        {
          "output_type": "execute_result",
          "data": {
            "text/plain": [
              "class                       0\n",
              "cap-shape                   0\n",
              "cap-surface                 0\n",
              "cap-color                   0\n",
              "bruises                     0\n",
              "odor                        0\n",
              "gill-attachment             0\n",
              "gill-spacing                0\n",
              "gill-size                   0\n",
              "gill-color                  0\n",
              "stalk-shape                 0\n",
              "stalk-root                  0\n",
              "stalk-surface-above-ring    0\n",
              "stalk-surface-below-ring    0\n",
              "stalk-color-above-ring      0\n",
              "stalk-color-below-ring      0\n",
              "veil-type                   0\n",
              "veil-color                  0\n",
              "ring-number                 0\n",
              "ring-type                   0\n",
              "spore-print-color           0\n",
              "population                  0\n",
              "habitat                     0\n",
              "dtype: int64"
            ]
          },
          "metadata": {},
          "execution_count": 38
        }
      ]
    },
    {
      "cell_type": "markdown",
      "source": [
        "Dados balanceados sem valores nulos."
      ],
      "metadata": {
        "id": "UZNsJc1_skCw"
      }
    },
    {
      "cell_type": "code",
      "source": [
        "colors = [\"#33CC33\", \"#DF0101\"]\n",
        "sns.countplot('class', data=data9, palette=colors)\n",
        "plt.title('Venenoso ou Comestível \\n (p: V || e: C)', fontsize=14)"
      ],
      "metadata": {
        "id": "-fueki6msgtF",
        "colab": {
          "base_uri": "https://localhost:8080/",
          "height": 330
        },
        "outputId": "6d078b40-5f05-47c6-a81f-fdd582d39224"
      },
      "execution_count": null,
      "outputs": [
        {
          "output_type": "execute_result",
          "data": {
            "text/plain": [
              "Text(0.5, 1.0, 'Venenoso ou Comestível \\n (p: V || e: C)')"
            ]
          },
          "metadata": {},
          "execution_count": 39
        },
        {
          "output_type": "display_data",
          "data": {
            "text/plain": [
              "<Figure size 432x288 with 1 Axes>"
            ],
            "image/png": "[encoded data removed]"
          },
          "metadata": {
            "needs_background": "light"
          }
        }
      ]
    },
    {
      "cell_type": "code",
      "source": [
        "data9.info()"
      ],
      "metadata": {
        "id": "kyy_YhDysqIC",
        "colab": {
          "base_uri": "https://localhost:8080/"
        },
        "outputId": "edb74ed2-4bc1-4273-fbd1-a4f7faab2763"
      },
      "execution_count": null,
      "outputs": [
        {
          "output_type": "stream",
          "name": "stdout",
          "text": [
            "<class 'pandas.core.frame.DataFrame'>\n",
            "RangeIndex: 8124 entries, 0 to 8123\n",
            "Data columns (total 23 columns):\n",
            " #   Column                    Non-Null Count  Dtype \n",
            "---  ------                    --------------  ----- \n",
            " 0   class                     8124 non-null   object\n",
            " 1   cap-shape                 8124 non-null   object\n",
            " 2   cap-surface               8124 non-null   object\n",
            " 3   cap-color                 8124 non-null   object\n",
            " 4   bruises                   8124 non-null   object\n",
            " 5   odor                      8124 non-null   object\n",
            " 6   gill-attachment           8124 non-null   object\n",
            " 7   gill-spacing              8124 non-null   object\n",
            " 8   gill-size                 8124 non-null   object\n",
            " 9   gill-color                8124 non-null   object\n",
            " 10  stalk-shape               8124 non-null   object\n",
            " 11  stalk-root                8124 non-null   object\n",
            " 12  stalk-surface-above-ring  8124 non-null   object\n",
            " 13  stalk-surface-below-ring  8124 non-null   object\n",
            " 14  stalk-color-above-ring    8124 non-null   object\n",
            " 15  stalk-color-below-ring    8124 non-null   object\n",
            " 16  veil-type                 8124 non-null   object\n",
            " 17  veil-color                8124 non-null   object\n",
            " 18  ring-number               8124 non-null   object\n",
            " 19  ring-type                 8124 non-null   object\n",
            " 20  spore-print-color         8124 non-null   object\n",
            " 21  population                8124 non-null   object\n",
            " 22  habitat                   8124 non-null   object\n",
            "dtypes: object(23)\n",
            "memory usage: 1.4+ MB\n"
          ]
        }
      ]
    },
    {
      "cell_type": "markdown",
      "source": [
        "É possível observar várias features catégoricas então precisaremos trata o dataset além de separa as variáveis X,y."
      ],
      "metadata": {
        "id": "fPscuNAyst7L"
      }
    },
    {
      "cell_type": "code",
      "source": [
        "X9 = data9.drop('class', axis = 1)\n",
        "y9 = data9['class']\n",
        "\n",
        "from sklearn.preprocessing import LabelEncoder\n",
        "from collections import defaultdict\n",
        "d = defaultdict (LabelEncoder)\n",
        "Xfit = X9.apply(lambda x: d[x.name].fit_transform(x))\n",
        "\n",
        "le_y = LabelEncoder()\n",
        "yfit = le_y.fit_transform(y9)\n",
        "\n",
        "yfit=pd.DataFrame(yfit)\n",
        "\n"
      ],
      "metadata": {
        "id": "I3wyEPzKstcP"
      },
      "execution_count": null,
      "outputs": []
    },
    {
      "cell_type": "code",
      "source": [
        "score9,mean9,std9 = ai_method_compare(Xfit,yfit)\n"
      ],
      "metadata": {
        "id": "5EkqjUeds-PQ",
        "colab": {
          "base_uri": "https://localhost:8080/"
        },
        "outputId": "713f09cf-2a50-4eb6-8c7b-ccb97fa3db6b"
      },
      "execution_count": null,
      "outputs": [
        {
          "output_type": "stream",
          "name": "stdout",
          "text": [
            "arvore: 96.11225225552748%, knn: 94.2650676506765%, mlp: 92.91029696011245%, naive bayes: 84.63860057319785%\n"
          ]
        }
      ]
    },
    {
      "cell_type": "markdown",
      "source": [
        "# Dataset10\n"
      ],
      "metadata": {
        "id": "4zXu5eWztWkm"
      }
    },
    {
      "cell_type": "markdown",
      "source": [
        "Para a classificação de enxaqueca apenas com features numéricas"
      ],
      "metadata": {
        "id": "SGo-7vDjlxyy"
      }
    },
    {
      "cell_type": "code",
      "source": [
        "data10 = pd.read_csv('/content/drive/Shareddrives/IA/Datasets/data-migraine.csv')\n",
        "data10.head()"
      ],
      "metadata": {
        "colab": {
          "base_uri": "https://localhost:8080/",
          "height": 366
        },
        "id": "IaqTeNb1lFKp",
        "outputId": "64b90378-2f68-473e-f941-4a5b7756443d"
      },
      "execution_count": null,
      "outputs": [
        {
          "output_type": "execute_result",
          "data": {
            "text/plain": [
              "   Age  Duration  Frequency  Location  Character  Intensity  Nausea  Vomit  \\\n",
              "0   30         1          5         1          1          2       1      0   \n",
              "1   50         3          5         1          1          3       1      1   \n",
              "2   53         2          1         1          1          2       1      1   \n",
              "3   45         3          5         1          1          3       1      0   \n",
              "4   53         1          1         1          1          2       1      0   \n",
              "\n",
              "   Phonophobia  Photophobia  ...  Vertigo  Tinnitus  Hypoacusis  Diplopia  \\\n",
              "0            1            1  ...        0         0           0         0   \n",
              "1            1            1  ...        1         0           0         0   \n",
              "2            1            1  ...        0         0           0         0   \n",
              "3            1            1  ...        1         0           0         0   \n",
              "4            1            1  ...        0         0           0         0   \n",
              "\n",
              "   Defect  Ataxia  Conscience  Paresthesia  DPF                        Type  \n",
              "0       0       0           0            0    0  Typical aura with migraine  \n",
              "1       0       0           0            0    0  Typical aura with migraine  \n",
              "2       0       0           0            0    0  Typical aura with migraine  \n",
              "3       0       0           0            0    0  Typical aura with migraine  \n",
              "4       0       0           0            0    1  Typical aura with migraine  \n",
              "\n",
              "[5 rows x 24 columns]"
            ],
            "text/html": [
              "\n",
              "  <div id=\"df-46e7ddec-c41e-4f14-b4df-5b9f9fc530b5\">\n",
              "    <div class=\"colab-df-container\">\n",
              "      <div>\n",
              "<style scoped>\n",
              "    .dataframe tbody tr th:only-of-type {\n",
              "        vertical-align: middle;\n",
              "    }\n",
              "\n",
              "    .dataframe tbody tr th {\n",
              "        vertical-align: top;\n",
              "    }\n",
              "\n",
              "    .dataframe thead th {\n",
              "        text-align: right;\n",
              "    }\n",
              "</style>\n",
              "<table border=\"1\" class=\"dataframe\">\n",
              "  <thead>\n",
              "    <tr style=\"text-align: right;\">\n",
              "      <th></th>\n",
              "      <th>Age</th>\n",
              "      <th>Duration</th>\n",
              "      <th>Frequency</th>\n",
              "      <th>Location</th>\n",
              "      <th>Character</th>\n",
              "      <th>Intensity</th>\n",
              "      <th>Nausea</th>\n",
              "      <th>Vomit</th>\n",
              "      <th>Phonophobia</th>\n",
              "      <th>Photophobia</th>\n",
              "      <th>...</th>\n",
              "      <th>Vertigo</th>\n",
              "      <th>Tinnitus</th>\n",
              "      <th>Hypoacusis</th>\n",
              "      <th>Diplopia</th>\n",
              "      <th>Defect</th>\n",
              "      <th>Ataxia</th>\n",
              "      <th>Conscience</th>\n",
              "      <th>Paresthesia</th>\n",
              "      <th>DPF</th>\n",
              "      <th>Type</th>\n",
              "    </tr>\n",
              "  </thead>\n",
              "  <tbody>\n",
              "    <tr>\n",
              "      <th>0</th>\n",
              "      <td>30</td>\n",
              "      <td>1</td>\n",
              "      <td>5</td>\n",
              "      <td>1</td>\n",
              "      <td>1</td>\n",
              "      <td>2</td>\n",
              "      <td>1</td>\n",
              "      <td>0</td>\n",
              "      <td>1</td>\n",
              "      <td>1</td>\n",
              "      <td>...</td>\n",
              "      <td>0</td>\n",
              "      <td>0</td>\n",
              "      <td>0</td>\n",
              "      <td>0</td>\n",
              "      <td>0</td>\n",
              "      <td>0</td>\n",
              "      <td>0</td>\n",
              "      <td>0</td>\n",
              "      <td>0</td>\n",
              "      <td>Typical aura with migraine</td>\n",
              "    </tr>\n",
              "    <tr>\n",
              "      <th>1</th>\n",
              "      <td>50</td>\n",
              "      <td>3</td>\n",
              "      <td>5</td>\n",
              "      <td>1</td>\n",
              "      <td>1</td>\n",
              "      <td>3</td>\n",
              "      <td>1</td>\n",
              "      <td>1</td>\n",
              "      <td>1</td>\n",
              "      <td>1</td>\n",
              "      <td>...</td>\n",
              "      <td>1</td>\n",
              "      <td>0</td>\n",
              "      <td>0</td>\n",
              "      <td>0</td>\n",
              "      <td>0</td>\n",
              "      <td>0</td>\n",
              "      <td>0</td>\n",
              "      <td>0</td>\n",
              "      <td>0</td>\n",
              "      <td>Typical aura with migraine</td>\n",
              "    </tr>\n",
              "    <tr>\n",
              "      <th>2</th>\n",
              "      <td>53</td>\n",
              "      <td>2</td>\n",
              "      <td>1</td>\n",
              "      <td>1</td>\n",
              "      <td>1</td>\n",
              "      <td>2</td>\n",
              "      <td>1</td>\n",
              "      <td>1</td>\n",
              "      <td>1</td>\n",
              "      <td>1</td>\n",
              "      <td>...</td>\n",
              "      <td>0</td>\n",
              "      <td>0</td>\n",
              "      <td>0</td>\n",
              "      <td>0</td>\n",
              "      <td>0</td>\n",
              "      <td>0</td>\n",
              "      <td>0</td>\n",
              "      <td>0</td>\n",
              "      <td>0</td>\n",
              "      <td>Typical aura with migraine</td>\n",
              "    </tr>\n",
              "    <tr>\n",
              "      <th>3</th>\n",
              "      <td>45</td>\n",
              "      <td>3</td>\n",
              "      <td>5</td>\n",
              "      <td>1</td>\n",
              "      <td>1</td>\n",
              "      <td>3</td>\n",
              "      <td>1</td>\n",
              "      <td>0</td>\n",
              "      <td>1</td>\n",
              "      <td>1</td>\n",
              "      <td>...</td>\n",
              "      <td>1</td>\n",
              "      <td>0</td>\n",
              "      <td>0</td>\n",
              "      <td>0</td>\n",
              "      <td>0</td>\n",
              "      <td>0</td>\n",
              "      <td>0</td>\n",
              "      <td>0</td>\n",
              "      <td>0</td>\n",
              "      <td>Typical aura with migraine</td>\n",
              "    </tr>\n",
              "    <tr>\n",
              "      <th>4</th>\n",
              "      <td>53</td>\n",
              "      <td>1</td>\n",
              "      <td>1</td>\n",
              "      <td>1</td>\n",
              "      <td>1</td>\n",
              "      <td>2</td>\n",
              "      <td>1</td>\n",
              "      <td>0</td>\n",
              "      <td>1</td>\n",
              "      <td>1</td>\n",
              "      <td>...</td>\n",
              "      <td>0</td>\n",
              "      <td>0</td>\n",
              "      <td>0</td>\n",
              "      <td>0</td>\n",
              "      <td>0</td>\n",
              "      <td>0</td>\n",
              "      <td>0</td>\n",
              "      <td>0</td>\n",
              "      <td>1</td>\n",
              "      <td>Typical aura with migraine</td>\n",
              "    </tr>\n",
              "  </tbody>\n",
              "</table>\n",
              "<p>5 rows × 24 columns</p>\n",
              "</div>\n",
              "      <button class=\"colab-df-convert\" onclick=\"convertToInteractive('df-46e7ddec-c41e-4f14-b4df-5b9f9fc530b5')\"\n",
              "              title=\"Convert this dataframe to an interactive table.\"\n",
              "              style=\"display:none;\">\n",
              "        \n",
              "  <svg xmlns=\"http://www.w3.org/2000/svg\" height=\"24px\"viewBox=\"0 0 24 24\"\n",
              "       width=\"24px\">\n",
              "    <path d=\"M0 0h24v24H0V0z\" fill=\"none\"/>\n",
              "    <path d=\"M18.56 5.44l.94 2.06.94-2.06 2.06-.94-2.06-.94-.94-2.06-.94 2.06-2.06.94zm-11 1L8.5 8.5l.94-2.06 2.06-.94-2.06-.94L8.5 2.5l-.94 2.06-2.06.94zm10 10l.94 2.06.94-2.06 2.06-.94-2.06-.94-.94-2.06-.94 2.06-2.06.94z\"/><path d=\"M17.41 7.96l-1.37-1.37c-.4-.4-.92-.59-1.43-.59-.52 0-1.04.2-1.43.59L10.3 9.45l-7.72 7.72c-.78.78-.78 2.05 0 2.83L4 21.41c.39.39.9.59 1.41.59.51 0 1.02-.2 1.41-.59l7.78-7.78 2.81-2.81c.8-.78.8-2.07 0-2.86zM5.41 20L4 18.59l7.72-7.72 1.47 1.35L5.41 20z\"/>\n",
              "  </svg>\n",
              "      </button>\n",
              "      \n",
              "  <style>\n",
              "    .colab-df-container {\n",
              "      display:flex;\n",
              "      flex-wrap:wrap;\n",
              "      gap: 12px;\n",
              "    }\n",
              "\n",
              "    .colab-df-convert {\n",
              "      background-color: #E8F0FE;\n",
              "      border: none;\n",
              "      border-radius: 50%;\n",
              "      cursor: pointer;\n",
              "      display: none;\n",
              "      fill: #1967D2;\n",
              "      height: 32px;\n",
              "      padding: 0 0 0 0;\n",
              "      width: 32px;\n",
              "    }\n",
              "\n",
              "    .colab-df-convert:hover {\n",
              "      background-color: #E2EBFA;\n",
              "      box-shadow: 0px 1px 2px rgba(60, 64, 67, 0.3), 0px 1px 3px 1px rgba(60, 64, 67, 0.15);\n",
              "      fill: #174EA6;\n",
              "    }\n",
              "\n",
              "    [theme=dark] .colab-df-convert {\n",
              "      background-color: #3B4455;\n",
              "      fill: #D2E3FC;\n",
              "    }\n",
              "\n",
              "    [theme=dark] .colab-df-convert:hover {\n",
              "      background-color: #434B5C;\n",
              "      box-shadow: 0px 1px 3px 1px rgba(0, 0, 0, 0.15);\n",
              "      filter: drop-shadow(0px 1px 2px rgba(0, 0, 0, 0.3));\n",
              "      fill: #FFFFFF;\n",
              "    }\n",
              "  </style>\n",
              "\n",
              "      <script>\n",
              "        const buttonEl =\n",
              "          document.querySelector('#df-46e7ddec-c41e-4f14-b4df-5b9f9fc530b5 button.colab-df-convert');\n",
              "        buttonEl.style.display =\n",
              "          google.colab.kernel.accessAllowed ? 'block' : 'none';\n",
              "\n",
              "        async function convertToInteractive(key) {\n",
              "          const element = document.querySelector('#df-46e7ddec-c41e-4f14-b4df-5b9f9fc530b5');\n",
              "          const dataTable =\n",
              "            await google.colab.kernel.invokeFunction('convertToInteractive',\n",
              "                                                     [key], {});\n",
              "          if (!dataTable) return;\n",
              "\n",
              "          const docLinkHtml = 'Like what you see? Visit the ' +\n",
              "            '<a target=\"_blank\" href=https://colab.research.google.com/notebooks/data_table.ipynb>data table notebook</a>'\n",
              "            + ' to learn more about interactive tables.';\n",
              "          element.innerHTML = '';\n",
              "          dataTable['output_type'] = 'display_data';\n",
              "          await google.colab.output.renderOutput(dataTable, element);\n",
              "          const docLink = document.createElement('div');\n",
              "          docLink.innerHTML = docLinkHtml;\n",
              "          element.appendChild(docLink);\n",
              "        }\n",
              "      </script>\n",
              "    </div>\n",
              "  </div>\n",
              "  "
            ]
          },
          "metadata": {},
          "execution_count": 63
        }
      ]
    },
    {
      "cell_type": "code",
      "source": [
        "data10.isnull().sum()"
      ],
      "metadata": {
        "colab": {
          "base_uri": "https://localhost:8080/"
        },
        "id": "6OAAcsfZmZoZ",
        "outputId": "649d2fbb-0f16-44fd-9fc1-4b0ae6ccb819"
      },
      "execution_count": null,
      "outputs": [
        {
          "output_type": "execute_result",
          "data": {
            "text/plain": [
              "Age            0\n",
              "Duration       0\n",
              "Frequency      0\n",
              "Location       0\n",
              "Character      0\n",
              "Intensity      0\n",
              "Nausea         0\n",
              "Vomit          0\n",
              "Phonophobia    0\n",
              "Photophobia    0\n",
              "Visual         0\n",
              "Sensory        0\n",
              "Dysphasia      0\n",
              "Dysarthria     0\n",
              "Vertigo        0\n",
              "Tinnitus       0\n",
              "Hypoacusis     0\n",
              "Diplopia       0\n",
              "Defect         0\n",
              "Ataxia         0\n",
              "Conscience     0\n",
              "Paresthesia    0\n",
              "DPF            0\n",
              "Type           0\n",
              "dtype: int64"
            ]
          },
          "metadata": {},
          "execution_count": 64
        }
      ]
    },
    {
      "cell_type": "code",
      "source": [
        "classes=data10['Type'].unique().tolist()\n",
        "print(classes)"
      ],
      "metadata": {
        "colab": {
          "base_uri": "https://localhost:8080/"
        },
        "id": "JrH83uTwmeex",
        "outputId": "d8d1ef85-6eac-48d5-b4a5-46d45a551917"
      },
      "execution_count": null,
      "outputs": [
        {
          "output_type": "stream",
          "name": "stdout",
          "text": [
            "['Typical aura with migraine', 'Migraine without aura', 'Basilar-type aura', 'Sporadic hemiplegic migraine', 'Familial hemiplegic migraine', 'Other', 'Typical aura without migraine']\n"
          ]
        }
      ]
    },
    {
      "cell_type": "code",
      "source": [
        "sns.countplot('Type', data=data10)\n",
        "plt.title('Tipos de enxaqueca')"
      ],
      "metadata": {
        "colab": {
          "base_uri": "https://localhost:8080/",
          "height": 312
        },
        "id": "ddGCBqvmm1YD",
        "outputId": "4230d7ec-f936-4591-8687-cd40d5d722fb"
      },
      "execution_count": null,
      "outputs": [
        {
          "output_type": "execute_result",
          "data": {
            "text/plain": [
              "Text(0.5, 1.0, 'Tipos de enxaqueca')"
            ]
          },
          "metadata": {},
          "execution_count": 70
        },
        {
          "output_type": "display_data",
          "data": {
            "text/plain": [
              "<Figure size 432x288 with 1 Axes>"
            ],
            "image/png": "[encoded data removed]"
          },
          "metadata": {
            "needs_background": "light"
          }
        }
      ]
    },
    {
      "cell_type": "markdown",
      "source": [
        "Dados desbalanceados precisamos fazer um Oversampling atráves do SMOTE com as classes minoritárias para igual com a classe majoritária.\n"
      ],
      "metadata": {
        "id": "NGSfjCPQoM_2"
      }
    },
    {
      "cell_type": "code",
      "source": [
        "X10 = data10.drop('Type', axis = 1)\n",
        "y10 = data10['Type']\n",
        "\n",
        "X10, y10 = SMT.fit_resample (X10, y10)\n",
        "\n",
        "ax=sns.countplot(x=y10)"
      ],
      "metadata": {
        "colab": {
          "base_uri": "https://localhost:8080/",
          "height": 279
        },
        "id": "VLsN7YfOnP81",
        "outputId": "0c3fcf3c-de20-4e0a-ad9b-1e8a40eb78f3"
      },
      "execution_count": null,
      "outputs": [
        {
          "output_type": "display_data",
          "data": {
            "text/plain": [
              "<Figure size 432x288 with 1 Axes>"
            ],
            "image/png": "[encoded data removed]"
          },
          "metadata": {
            "needs_background": "light"
          }
        }
      ]
    },
    {
      "cell_type": "code",
      "source": [
        "score10,mean10,std10 = ai_method_compare(X10,y10)\n"
      ],
      "metadata": {
        "colab": {
          "base_uri": "https://localhost:8080/"
        },
        "id": "VCcAIKx3ouUs",
        "outputId": "0cd543bc-39f4-4c23-c010-889da7a88e41"
      },
      "execution_count": null,
      "outputs": [
        {
          "output_type": "stream",
          "name": "stdout",
          "text": [
            "arvore: 94.91094233095848%, knn: 77.96545234574539%, mlp: 92.02043285387822%, naive bayes: 81.14733163059552%\n"
          ]
        }
      ]
    },
    {
      "cell_type": "code",
      "source": [],
      "metadata": {
        "id": "rb_x2WZWPiN0"
      },
      "execution_count": null,
      "outputs": []
    },
    {
      "cell_type": "markdown",
      "source": [
        "#Comparações"
      ],
      "metadata": {
        "id": "rn0bWXhlYbt2"
      }
    },
    {
      "cell_type": "markdown",
      "source": [
        "Inicialmente, foram armazenados os valores dos scores, médias dos erros e seus desvio padrão para cada dataset. A média de desempenho final é mostrada abaixo."
      ],
      "metadata": {
        "id": "MGy8kqfoWIsC"
      }
    },
    {
      "cell_type": "code",
      "source": [
        "scores = pd.DataFrame(np.array([score1,score2,score3,score4,score5,score6,score7,score8,score9,score10]), columns=[\"tree\",\"knn\",\"mlp\",\"naive bayes\"])\n",
        "media_erros = pd.DataFrame(np.array([mean1,mean2,mean3,mean4,mean5,mean6,mean7,mean8,mean9,mean10]), columns=[\"tree\",\"knn\",\"mlp\",\"naive bayes\"])\n",
        "std_erros = pd.DataFrame(np.array([std1,std2,std3,std4,std5,std6,std7,std8,std9,std10]), columns=[\"tree\",\"knn\",\"mlp\",\"naive bayes\"])\n",
        "\n",
        "col = scores.columns\n",
        "scores_media = []\n",
        "for j in range(4):\n",
        "  scores_media.append(scores[col[j]].mean())\n",
        "\n",
        "scores_media"
      ],
      "metadata": {
        "colab": {
          "base_uri": "https://localhost:8080/"
        },
        "id": "63krmwB_YeDX",
        "outputId": "2713d9be-cb2a-4782-80ba-23b3f6e79e42"
      },
      "execution_count": null,
      "outputs": [
        {
          "output_type": "execute_result",
          "data": {
            "text/plain": [
              "[90.85505949149088, 85.1606319578621, 92.80806773598314, 88.88375343831268]"
            ]
          },
          "metadata": {},
          "execution_count": 146
        }
      ]
    },
    {
      "cell_type": "markdown",
      "source": [
        "Aqui são adicionadas duas colunas aos scores mostrando os dois melhores métodos para cada dataset."
      ],
      "metadata": {
        "id": "kL1QTlRmWX6q"
      }
    },
    {
      "cell_type": "code",
      "source": [
        "## vencedores de cada dataset\n",
        "\n",
        "v = []\n",
        "\n",
        "for j in range(10):\n",
        "  v.append(np.array(scores.loc[[j],[\"tree\",\"knn\",\"mlp\",\"naive bayes\"]]))\n",
        "\n",
        "for j in range(10):\n",
        "  for i in range(4):\n",
        "    a = np.array(scores.loc[[j],[col[i]]])\n",
        "    a = a[0]\n",
        "    a = a[0]\n",
        "    a = round(a,6)\n",
        "    b = v[j].max()\n",
        "    b = round(b,6)\n",
        "    if a==b:\n",
        "        scores.loc[j,'winner']=col[i]\n",
        "        scores.loc[j,'2 winner']=-1\n",
        "\n",
        "for j in range(10):\n",
        "  aux = scores.loc[j].drop([scores.loc[j,'winner'],\"winner\",\"2 winner\"])\n",
        "  for i in range(4):\n",
        "    a = np.array(scores.loc[[j],[col[i]]])\n",
        "    a = a[0]\n",
        "    a = a[0]\n",
        "    a = round(a,6)\n",
        "    b = aux.max()\n",
        "    b = round(b,6)\n",
        "    if a==b:\n",
        "        scores.loc[j,'2 winner']=col[i]\n",
        "\n",
        "\n",
        "scores.loc[0,'2 winner'] = 'knn'\n"
      ],
      "metadata": {
        "id": "kIlx-w01hIXQ"
      },
      "execution_count": null,
      "outputs": []
    },
    {
      "cell_type": "code",
      "source": [
        "scores"
      ],
      "metadata": {
        "colab": {
          "base_uri": "https://localhost:8080/",
          "height": 363
        },
        "id": "ci4rVKxwofa4",
        "outputId": "22109d74-328e-4aa4-e4d3-b4c1f05b86d1"
      },
      "execution_count": null,
      "outputs": [
        {
          "output_type": "execute_result",
          "data": {
            "text/plain": [
              "        tree        knn        mlp  naive bayes       winner     2 winner\n",
              "0  96.000000  97.333333  97.333333    95.333333          mlp          knn\n",
              "1  95.333333  96.000000  97.333333    95.333333          mlp          knn\n",
              "2  92.619048  93.151629  94.031955    93.677945          mlp  naive bayes\n",
              "3  89.869281  74.803922  91.111111    97.777778  naive bayes          mlp\n",
              "4  94.513502  91.656360  95.421563    92.471655          mlp         tree\n",
              "5  81.204751  83.998869  86.481900    83.693439          mlp          knn\n",
              "6  83.650000  54.800000  91.850000    81.200000          mlp         tree\n",
              "7  84.337485  87.631687  89.586752    83.564119          mlp          knn\n",
              "8  96.112252  94.265068  92.910297    84.638601         tree          knn\n",
              "9  94.910942  77.965452  92.020433    81.147332         tree          mlp"
            ],
            "text/html": [
              "\n",
              "  <div id=\"df-9d1db06d-6701-4af7-aac9-00493affeb14\">\n",
              "    <div class=\"colab-df-container\">\n",
              "      <div>\n",
              "<style scoped>\n",
              "    .dataframe tbody tr th:only-of-type {\n",
              "        vertical-align: middle;\n",
              "    }\n",
              "\n",
              "    .dataframe tbody tr th {\n",
              "        vertical-align: top;\n",
              "    }\n",
              "\n",
              "    .dataframe thead th {\n",
              "        text-align: right;\n",
              "    }\n",
              "</style>\n",
              "<table border=\"1\" class=\"dataframe\">\n",
              "  <thead>\n",
              "    <tr style=\"text-align: right;\">\n",
              "      <th></th>\n",
              "      <th>tree</th>\n",
              "      <th>knn</th>\n",
              "      <th>mlp</th>\n",
              "      <th>naive bayes</th>\n",
              "      <th>winner</th>\n",
              "      <th>2 winner</th>\n",
              "    </tr>\n",
              "  </thead>\n",
              "  <tbody>\n",
              "    <tr>\n",
              "      <th>0</th>\n",
              "      <td>96.000000</td>\n",
              "      <td>97.333333</td>\n",
              "      <td>97.333333</td>\n",
              "      <td>95.333333</td>\n",
              "      <td>mlp</td>\n",
              "      <td>knn</td>\n",
              "    </tr>\n",
              "    <tr>\n",
              "      <th>1</th>\n",
              "      <td>95.333333</td>\n",
              "      <td>96.000000</td>\n",
              "      <td>97.333333</td>\n",
              "      <td>95.333333</td>\n",
              "      <td>mlp</td>\n",
              "      <td>knn</td>\n",
              "    </tr>\n",
              "    <tr>\n",
              "      <th>2</th>\n",
              "      <td>92.619048</td>\n",
              "      <td>93.151629</td>\n",
              "      <td>94.031955</td>\n",
              "      <td>93.677945</td>\n",
              "      <td>mlp</td>\n",
              "      <td>naive bayes</td>\n",
              "    </tr>\n",
              "    <tr>\n",
              "      <th>3</th>\n",
              "      <td>89.869281</td>\n",
              "      <td>74.803922</td>\n",
              "      <td>91.111111</td>\n",
              "      <td>97.777778</td>\n",
              "      <td>naive bayes</td>\n",
              "      <td>mlp</td>\n",
              "    </tr>\n",
              "    <tr>\n",
              "      <th>4</th>\n",
              "      <td>94.513502</td>\n",
              "      <td>91.656360</td>\n",
              "      <td>95.421563</td>\n",
              "      <td>92.471655</td>\n",
              "      <td>mlp</td>\n",
              "      <td>tree</td>\n",
              "    </tr>\n",
              "    <tr>\n",
              "      <th>5</th>\n",
              "      <td>81.204751</td>\n",
              "      <td>83.998869</td>\n",
              "      <td>86.481900</td>\n",
              "      <td>83.693439</td>\n",
              "      <td>mlp</td>\n",
              "      <td>knn</td>\n",
              "    </tr>\n",
              "    <tr>\n",
              "      <th>6</th>\n",
              "      <td>83.650000</td>\n",
              "      <td>54.800000</td>\n",
              "      <td>91.850000</td>\n",
              "      <td>81.200000</td>\n",
              "      <td>mlp</td>\n",
              "      <td>tree</td>\n",
              "    </tr>\n",
              "    <tr>\n",
              "      <th>7</th>\n",
              "      <td>84.337485</td>\n",
              "      <td>87.631687</td>\n",
              "      <td>89.586752</td>\n",
              "      <td>83.564119</td>\n",
              "      <td>mlp</td>\n",
              "      <td>knn</td>\n",
              "    </tr>\n",
              "    <tr>\n",
              "      <th>8</th>\n",
              "      <td>96.112252</td>\n",
              "      <td>94.265068</td>\n",
              "      <td>92.910297</td>\n",
              "      <td>84.638601</td>\n",
              "      <td>tree</td>\n",
              "      <td>knn</td>\n",
              "    </tr>\n",
              "    <tr>\n",
              "      <th>9</th>\n",
              "      <td>94.910942</td>\n",
              "      <td>77.965452</td>\n",
              "      <td>92.020433</td>\n",
              "      <td>81.147332</td>\n",
              "      <td>tree</td>\n",
              "      <td>mlp</td>\n",
              "    </tr>\n",
              "  </tbody>\n",
              "</table>\n",
              "</div>\n",
              "      <button class=\"colab-df-convert\" onclick=\"convertToInteractive('df-9d1db06d-6701-4af7-aac9-00493affeb14')\"\n",
              "              title=\"Convert this dataframe to an interactive table.\"\n",
              "              style=\"display:none;\">\n",
              "        \n",
              "  <svg xmlns=\"http://www.w3.org/2000/svg\" height=\"24px\"viewBox=\"0 0 24 24\"\n",
              "       width=\"24px\">\n",
              "    <path d=\"M0 0h24v24H0V0z\" fill=\"none\"/>\n",
              "    <path d=\"M18.56 5.44l.94 2.06.94-2.06 2.06-.94-2.06-.94-.94-2.06-.94 2.06-2.06.94zm-11 1L8.5 8.5l.94-2.06 2.06-.94-2.06-.94L8.5 2.5l-.94 2.06-2.06.94zm10 10l.94 2.06.94-2.06 2.06-.94-2.06-.94-.94-2.06-.94 2.06-2.06.94z\"/><path d=\"M17.41 7.96l-1.37-1.37c-.4-.4-.92-.59-1.43-.59-.52 0-1.04.2-1.43.59L10.3 9.45l-7.72 7.72c-.78.78-.78 2.05 0 2.83L4 21.41c.39.39.9.59 1.41.59.51 0 1.02-.2 1.41-.59l7.78-7.78 2.81-2.81c.8-.78.8-2.07 0-2.86zM5.41 20L4 18.59l7.72-7.72 1.47 1.35L5.41 20z\"/>\n",
              "  </svg>\n",
              "      </button>\n",
              "      \n",
              "  <style>\n",
              "    .colab-df-container {\n",
              "      display:flex;\n",
              "      flex-wrap:wrap;\n",
              "      gap: 12px;\n",
              "    }\n",
              "\n",
              "    .colab-df-convert {\n",
              "      background-color: #E8F0FE;\n",
              "      border: none;\n",
              "      border-radius: 50%;\n",
              "      cursor: pointer;\n",
              "      display: none;\n",
              "      fill: #1967D2;\n",
              "      height: 32px;\n",
              "      padding: 0 0 0 0;\n",
              "      width: 32px;\n",
              "    }\n",
              "\n",
              "    .colab-df-convert:hover {\n",
              "      background-color: #E2EBFA;\n",
              "      box-shadow: 0px 1px 2px rgba(60, 64, 67, 0.3), 0px 1px 3px 1px rgba(60, 64, 67, 0.15);\n",
              "      fill: #174EA6;\n",
              "    }\n",
              "\n",
              "    [theme=dark] .colab-df-convert {\n",
              "      background-color: #3B4455;\n",
              "      fill: #D2E3FC;\n",
              "    }\n",
              "\n",
              "    [theme=dark] .colab-df-convert:hover {\n",
              "      background-color: #434B5C;\n",
              "      box-shadow: 0px 1px 3px 1px rgba(0, 0, 0, 0.15);\n",
              "      filter: drop-shadow(0px 1px 2px rgba(0, 0, 0, 0.3));\n",
              "      fill: #FFFFFF;\n",
              "    }\n",
              "  </style>\n",
              "\n",
              "      <script>\n",
              "        const buttonEl =\n",
              "          document.querySelector('#df-9d1db06d-6701-4af7-aac9-00493affeb14 button.colab-df-convert');\n",
              "        buttonEl.style.display =\n",
              "          google.colab.kernel.accessAllowed ? 'block' : 'none';\n",
              "\n",
              "        async function convertToInteractive(key) {\n",
              "          const element = document.querySelector('#df-9d1db06d-6701-4af7-aac9-00493affeb14');\n",
              "          const dataTable =\n",
              "            await google.colab.kernel.invokeFunction('convertToInteractive',\n",
              "                                                     [key], {});\n",
              "          if (!dataTable) return;\n",
              "\n",
              "          const docLinkHtml = 'Like what you see? Visit the ' +\n",
              "            '<a target=\"_blank\" href=https://colab.research.google.com/notebooks/data_table.ipynb>data table notebook</a>'\n",
              "            + ' to learn more about interactive tables.';\n",
              "          element.innerHTML = '';\n",
              "          dataTable['output_type'] = 'display_data';\n",
              "          await google.colab.output.renderOutput(dataTable, element);\n",
              "          const docLink = document.createElement('div');\n",
              "          docLink.innerHTML = docLinkHtml;\n",
              "          element.appendChild(docLink);\n",
              "        }\n",
              "      </script>\n",
              "    </div>\n",
              "  </div>\n",
              "  "
            ]
          },
          "metadata": {},
          "execution_count": 151
        }
      ]
    },
    {
      "cell_type": "code",
      "source": [
        "media_erros"
      ],
      "metadata": {
        "colab": {
          "base_uri": "https://localhost:8080/",
          "height": 363
        },
        "id": "fViJQFnUfX9_",
        "outputId": "76c309e2-e1ba-47bd-fb6e-b0ad5f118b90"
      },
      "execution_count": null,
      "outputs": [
        {
          "output_type": "execute_result",
          "data": {
            "text/plain": [
              "       tree       knn       mlp  naive bayes\n",
              "0  0.040000  0.026667  0.026667     0.046667\n",
              "1  0.046667  0.040000  0.026667     0.046667\n",
              "2  0.073810  0.068484  0.059680     0.063221\n",
              "3  0.101307  0.251961  0.088889     0.022222\n",
              "4  0.054865  0.083436  0.045784     0.075283\n",
              "5  0.187952  0.160011  0.135181     0.163066\n",
              "6  0.163500  0.452000  0.081500     0.188000\n",
              "7  0.156625  0.123683  0.104132     0.164359\n",
              "8  0.038877  0.057349  0.070897     0.153614\n",
              "9  0.050891  0.220345  0.079796     0.188527"
            ],
            "text/html": [
              "\n",
              "  <div id=\"df-710fe5dc-ef24-4662-821e-e9d856c37a14\">\n",
              "    <div class=\"colab-df-container\">\n",
              "      <div>\n",
              "<style scoped>\n",
              "    .dataframe tbody tr th:only-of-type {\n",
              "        vertical-align: middle;\n",
              "    }\n",
              "\n",
              "    .dataframe tbody tr th {\n",
              "        vertical-align: top;\n",
              "    }\n",
              "\n",
              "    .dataframe thead th {\n",
              "        text-align: right;\n",
              "    }\n",
              "</style>\n",
              "<table border=\"1\" class=\"dataframe\">\n",
              "  <thead>\n",
              "    <tr style=\"text-align: right;\">\n",
              "      <th></th>\n",
              "      <th>tree</th>\n",
              "      <th>knn</th>\n",
              "      <th>mlp</th>\n",
              "      <th>naive bayes</th>\n",
              "    </tr>\n",
              "  </thead>\n",
              "  <tbody>\n",
              "    <tr>\n",
              "      <th>0</th>\n",
              "      <td>0.040000</td>\n",
              "      <td>0.026667</td>\n",
              "      <td>0.026667</td>\n",
              "      <td>0.046667</td>\n",
              "    </tr>\n",
              "    <tr>\n",
              "      <th>1</th>\n",
              "      <td>0.046667</td>\n",
              "      <td>0.040000</td>\n",
              "      <td>0.026667</td>\n",
              "      <td>0.046667</td>\n",
              "    </tr>\n",
              "    <tr>\n",
              "      <th>2</th>\n",
              "      <td>0.073810</td>\n",
              "      <td>0.068484</td>\n",
              "      <td>0.059680</td>\n",
              "      <td>0.063221</td>\n",
              "    </tr>\n",
              "    <tr>\n",
              "      <th>3</th>\n",
              "      <td>0.101307</td>\n",
              "      <td>0.251961</td>\n",
              "      <td>0.088889</td>\n",
              "      <td>0.022222</td>\n",
              "    </tr>\n",
              "    <tr>\n",
              "      <th>4</th>\n",
              "      <td>0.054865</td>\n",
              "      <td>0.083436</td>\n",
              "      <td>0.045784</td>\n",
              "      <td>0.075283</td>\n",
              "    </tr>\n",
              "    <tr>\n",
              "      <th>5</th>\n",
              "      <td>0.187952</td>\n",
              "      <td>0.160011</td>\n",
              "      <td>0.135181</td>\n",
              "      <td>0.163066</td>\n",
              "    </tr>\n",
              "    <tr>\n",
              "      <th>6</th>\n",
              "      <td>0.163500</td>\n",
              "      <td>0.452000</td>\n",
              "      <td>0.081500</td>\n",
              "      <td>0.188000</td>\n",
              "    </tr>\n",
              "    <tr>\n",
              "      <th>7</th>\n",
              "      <td>0.156625</td>\n",
              "      <td>0.123683</td>\n",
              "      <td>0.104132</td>\n",
              "      <td>0.164359</td>\n",
              "    </tr>\n",
              "    <tr>\n",
              "      <th>8</th>\n",
              "      <td>0.038877</td>\n",
              "      <td>0.057349</td>\n",
              "      <td>0.070897</td>\n",
              "      <td>0.153614</td>\n",
              "    </tr>\n",
              "    <tr>\n",
              "      <th>9</th>\n",
              "      <td>0.050891</td>\n",
              "      <td>0.220345</td>\n",
              "      <td>0.079796</td>\n",
              "      <td>0.188527</td>\n",
              "    </tr>\n",
              "  </tbody>\n",
              "</table>\n",
              "</div>\n",
              "      <button class=\"colab-df-convert\" onclick=\"convertToInteractive('df-710fe5dc-ef24-4662-821e-e9d856c37a14')\"\n",
              "              title=\"Convert this dataframe to an interactive table.\"\n",
              "              style=\"display:none;\">\n",
              "        \n",
              "  <svg xmlns=\"http://www.w3.org/2000/svg\" height=\"24px\"viewBox=\"0 0 24 24\"\n",
              "       width=\"24px\">\n",
              "    <path d=\"M0 0h24v24H0V0z\" fill=\"none\"/>\n",
              "    <path d=\"M18.56 5.44l.94 2.06.94-2.06 2.06-.94-2.06-.94-.94-2.06-.94 2.06-2.06.94zm-11 1L8.5 8.5l.94-2.06 2.06-.94-2.06-.94L8.5 2.5l-.94 2.06-2.06.94zm10 10l.94 2.06.94-2.06 2.06-.94-2.06-.94-.94-2.06-.94 2.06-2.06.94z\"/><path d=\"M17.41 7.96l-1.37-1.37c-.4-.4-.92-.59-1.43-.59-.52 0-1.04.2-1.43.59L10.3 9.45l-7.72 7.72c-.78.78-.78 2.05 0 2.83L4 21.41c.39.39.9.59 1.41.59.51 0 1.02-.2 1.41-.59l7.78-7.78 2.81-2.81c.8-.78.8-2.07 0-2.86zM5.41 20L4 18.59l7.72-7.72 1.47 1.35L5.41 20z\"/>\n",
              "  </svg>\n",
              "      </button>\n",
              "      \n",
              "  <style>\n",
              "    .colab-df-container {\n",
              "      display:flex;\n",
              "      flex-wrap:wrap;\n",
              "      gap: 12px;\n",
              "    }\n",
              "\n",
              "    .colab-df-convert {\n",
              "      background-color: #E8F0FE;\n",
              "      border: none;\n",
              "      border-radius: 50%;\n",
              "      cursor: pointer;\n",
              "      display: none;\n",
              "      fill: #1967D2;\n",
              "      height: 32px;\n",
              "      padding: 0 0 0 0;\n",
              "      width: 32px;\n",
              "    }\n",
              "\n",
              "    .colab-df-convert:hover {\n",
              "      background-color: #E2EBFA;\n",
              "      box-shadow: 0px 1px 2px rgba(60, 64, 67, 0.3), 0px 1px 3px 1px rgba(60, 64, 67, 0.15);\n",
              "      fill: #174EA6;\n",
              "    }\n",
              "\n",
              "    [theme=dark] .colab-df-convert {\n",
              "      background-color: #3B4455;\n",
              "      fill: #D2E3FC;\n",
              "    }\n",
              "\n",
              "    [theme=dark] .colab-df-convert:hover {\n",
              "      background-color: #434B5C;\n",
              "      box-shadow: 0px 1px 3px 1px rgba(0, 0, 0, 0.15);\n",
              "      filter: drop-shadow(0px 1px 2px rgba(0, 0, 0, 0.3));\n",
              "      fill: #FFFFFF;\n",
              "    }\n",
              "  </style>\n",
              "\n",
              "      <script>\n",
              "        const buttonEl =\n",
              "          document.querySelector('#df-710fe5dc-ef24-4662-821e-e9d856c37a14 button.colab-df-convert');\n",
              "        buttonEl.style.display =\n",
              "          google.colab.kernel.accessAllowed ? 'block' : 'none';\n",
              "\n",
              "        async function convertToInteractive(key) {\n",
              "          const element = document.querySelector('#df-710fe5dc-ef24-4662-821e-e9d856c37a14');\n",
              "          const dataTable =\n",
              "            await google.colab.kernel.invokeFunction('convertToInteractive',\n",
              "                                                     [key], {});\n",
              "          if (!dataTable) return;\n",
              "\n",
              "          const docLinkHtml = 'Like what you see? Visit the ' +\n",
              "            '<a target=\"_blank\" href=https://colab.research.google.com/notebooks/data_table.ipynb>data table notebook</a>'\n",
              "            + ' to learn more about interactive tables.';\n",
              "          element.innerHTML = '';\n",
              "          dataTable['output_type'] = 'display_data';\n",
              "          await google.colab.output.renderOutput(dataTable, element);\n",
              "          const docLink = document.createElement('div');\n",
              "          docLink.innerHTML = docLinkHtml;\n",
              "          element.appendChild(docLink);\n",
              "        }\n",
              "      </script>\n",
              "    </div>\n",
              "  </div>\n",
              "  "
            ]
          },
          "metadata": {},
          "execution_count": 152
        }
      ]
    },
    {
      "cell_type": "code",
      "source": [
        "std_erros"
      ],
      "metadata": {
        "colab": {
          "base_uri": "https://localhost:8080/",
          "height": 363
        },
        "id": "vmfxMnEPfasH",
        "outputId": "2b2b9325-9cd7-4ce5-870a-79e61769d8f8"
      },
      "execution_count": null,
      "outputs": [
        {
          "output_type": "execute_result",
          "data": {
            "text/plain": [
              "       tree       knn       mlp  naive bayes\n",
              "0  0.044222  0.032660  0.044222     0.042687\n",
              "1  0.042687  0.053333  0.044222     0.042687\n",
              "2  0.031175  0.034542  0.022409     0.028444\n",
              "3  0.087286  0.095405  0.066667     0.027217\n",
              "4  0.029232  0.048596  0.023361     0.037965\n",
              "5  0.010678  0.008202  0.008582     0.022267\n",
              "6  0.023457  0.035721  0.011413     0.014866\n",
              "7  0.073289  0.029772  0.028290     0.067166\n",
              "8  0.094603  0.101696  0.129573     0.109761\n",
              "9  0.024758  0.025283  0.027544     0.055456"
            ],
            "text/html": [
              "\n",
              "  <div id=\"df-9c7749d9-44de-4858-8af5-f13488a99dd7\">\n",
              "    <div class=\"colab-df-container\">\n",
              "      <div>\n",
              "<style scoped>\n",
              "    .dataframe tbody tr th:only-of-type {\n",
              "        vertical-align: middle;\n",
              "    }\n",
              "\n",
              "    .dataframe tbody tr th {\n",
              "        vertical-align: top;\n",
              "    }\n",
              "\n",
              "    .dataframe thead th {\n",
              "        text-align: right;\n",
              "    }\n",
              "</style>\n",
              "<table border=\"1\" class=\"dataframe\">\n",
              "  <thead>\n",
              "    <tr style=\"text-align: right;\">\n",
              "      <th></th>\n",
              "      <th>tree</th>\n",
              "      <th>knn</th>\n",
              "      <th>mlp</th>\n",
              "      <th>naive bayes</th>\n",
              "    </tr>\n",
              "  </thead>\n",
              "  <tbody>\n",
              "    <tr>\n",
              "      <th>0</th>\n",
              "      <td>0.044222</td>\n",
              "      <td>0.032660</td>\n",
              "      <td>0.044222</td>\n",
              "      <td>0.042687</td>\n",
              "    </tr>\n",
              "    <tr>\n",
              "      <th>1</th>\n",
              "      <td>0.042687</td>\n",
              "      <td>0.053333</td>\n",
              "      <td>0.044222</td>\n",
              "      <td>0.042687</td>\n",
              "    </tr>\n",
              "    <tr>\n",
              "      <th>2</th>\n",
              "      <td>0.031175</td>\n",
              "      <td>0.034542</td>\n",
              "      <td>0.022409</td>\n",
              "      <td>0.028444</td>\n",
              "    </tr>\n",
              "    <tr>\n",
              "      <th>3</th>\n",
              "      <td>0.087286</td>\n",
              "      <td>0.095405</td>\n",
              "      <td>0.066667</td>\n",
              "      <td>0.027217</td>\n",
              "    </tr>\n",
              "    <tr>\n",
              "      <th>4</th>\n",
              "      <td>0.029232</td>\n",
              "      <td>0.048596</td>\n",
              "      <td>0.023361</td>\n",
              "      <td>0.037965</td>\n",
              "    </tr>\n",
              "    <tr>\n",
              "      <th>5</th>\n",
              "      <td>0.010678</td>\n",
              "      <td>0.008202</td>\n",
              "      <td>0.008582</td>\n",
              "      <td>0.022267</td>\n",
              "    </tr>\n",
              "    <tr>\n",
              "      <th>6</th>\n",
              "      <td>0.023457</td>\n",
              "      <td>0.035721</td>\n",
              "      <td>0.011413</td>\n",
              "      <td>0.014866</td>\n",
              "    </tr>\n",
              "    <tr>\n",
              "      <th>7</th>\n",
              "      <td>0.073289</td>\n",
              "      <td>0.029772</td>\n",
              "      <td>0.028290</td>\n",
              "      <td>0.067166</td>\n",
              "    </tr>\n",
              "    <tr>\n",
              "      <th>8</th>\n",
              "      <td>0.094603</td>\n",
              "      <td>0.101696</td>\n",
              "      <td>0.129573</td>\n",
              "      <td>0.109761</td>\n",
              "    </tr>\n",
              "    <tr>\n",
              "      <th>9</th>\n",
              "      <td>0.024758</td>\n",
              "      <td>0.025283</td>\n",
              "      <td>0.027544</td>\n",
              "      <td>0.055456</td>\n",
              "    </tr>\n",
              "  </tbody>\n",
              "</table>\n",
              "</div>\n",
              "      <button class=\"colab-df-convert\" onclick=\"convertToInteractive('df-9c7749d9-44de-4858-8af5-f13488a99dd7')\"\n",
              "              title=\"Convert this dataframe to an interactive table.\"\n",
              "              style=\"display:none;\">\n",
              "        \n",
              "  <svg xmlns=\"http://www.w3.org/2000/svg\" height=\"24px\"viewBox=\"0 0 24 24\"\n",
              "       width=\"24px\">\n",
              "    <path d=\"M0 0h24v24H0V0z\" fill=\"none\"/>\n",
              "    <path d=\"M18.56 5.44l.94 2.06.94-2.06 2.06-.94-2.06-.94-.94-2.06-.94 2.06-2.06.94zm-11 1L8.5 8.5l.94-2.06 2.06-.94-2.06-.94L8.5 2.5l-.94 2.06-2.06.94zm10 10l.94 2.06.94-2.06 2.06-.94-2.06-.94-.94-2.06-.94 2.06-2.06.94z\"/><path d=\"M17.41 7.96l-1.37-1.37c-.4-.4-.92-.59-1.43-.59-.52 0-1.04.2-1.43.59L10.3 9.45l-7.72 7.72c-.78.78-.78 2.05 0 2.83L4 21.41c.39.39.9.59 1.41.59.51 0 1.02-.2 1.41-.59l7.78-7.78 2.81-2.81c.8-.78.8-2.07 0-2.86zM5.41 20L4 18.59l7.72-7.72 1.47 1.35L5.41 20z\"/>\n",
              "  </svg>\n",
              "      </button>\n",
              "      \n",
              "  <style>\n",
              "    .colab-df-container {\n",
              "      display:flex;\n",
              "      flex-wrap:wrap;\n",
              "      gap: 12px;\n",
              "    }\n",
              "\n",
              "    .colab-df-convert {\n",
              "      background-color: #E8F0FE;\n",
              "      border: none;\n",
              "      border-radius: 50%;\n",
              "      cursor: pointer;\n",
              "      display: none;\n",
              "      fill: #1967D2;\n",
              "      height: 32px;\n",
              "      padding: 0 0 0 0;\n",
              "      width: 32px;\n",
              "    }\n",
              "\n",
              "    .colab-df-convert:hover {\n",
              "      background-color: #E2EBFA;\n",
              "      box-shadow: 0px 1px 2px rgba(60, 64, 67, 0.3), 0px 1px 3px 1px rgba(60, 64, 67, 0.15);\n",
              "      fill: #174EA6;\n",
              "    }\n",
              "\n",
              "    [theme=dark] .colab-df-convert {\n",
              "      background-color: #3B4455;\n",
              "      fill: #D2E3FC;\n",
              "    }\n",
              "\n",
              "    [theme=dark] .colab-df-convert:hover {\n",
              "      background-color: #434B5C;\n",
              "      box-shadow: 0px 1px 3px 1px rgba(0, 0, 0, 0.15);\n",
              "      filter: drop-shadow(0px 1px 2px rgba(0, 0, 0, 0.3));\n",
              "      fill: #FFFFFF;\n",
              "    }\n",
              "  </style>\n",
              "\n",
              "      <script>\n",
              "        const buttonEl =\n",
              "          document.querySelector('#df-9c7749d9-44de-4858-8af5-f13488a99dd7 button.colab-df-convert');\n",
              "        buttonEl.style.display =\n",
              "          google.colab.kernel.accessAllowed ? 'block' : 'none';\n",
              "\n",
              "        async function convertToInteractive(key) {\n",
              "          const element = document.querySelector('#df-9c7749d9-44de-4858-8af5-f13488a99dd7');\n",
              "          const dataTable =\n",
              "            await google.colab.kernel.invokeFunction('convertToInteractive',\n",
              "                                                     [key], {});\n",
              "          if (!dataTable) return;\n",
              "\n",
              "          const docLinkHtml = 'Like what you see? Visit the ' +\n",
              "            '<a target=\"_blank\" href=https://colab.research.google.com/notebooks/data_table.ipynb>data table notebook</a>'\n",
              "            + ' to learn more about interactive tables.';\n",
              "          element.innerHTML = '';\n",
              "          dataTable['output_type'] = 'display_data';\n",
              "          await google.colab.output.renderOutput(dataTable, element);\n",
              "          const docLink = document.createElement('div');\n",
              "          docLink.innerHTML = docLinkHtml;\n",
              "          element.appendChild(docLink);\n",
              "        }\n",
              "      </script>\n",
              "    </div>\n",
              "  </div>\n",
              "  "
            ]
          },
          "metadata": {},
          "execution_count": 153
        }
      ]
    },
    {
      "cell_type": "markdown",
      "source": [
        "\n",
        "\n",
        "\n",
        "Função para a obtenção da diferença absoluta"
      ],
      "metadata": {
        "id": "7yPIKLe_W1Hi"
      }
    },
    {
      "cell_type": "code",
      "source": [
        "def resultado(scores,media_erros,std_erros,linha):\n",
        "  a = scores.loc[linha,'winner']\n",
        "  b = scores.loc[linha,'2 winner']\n",
        "  return pd.DataFrame(np.array([[dif_abs(media_erros.loc[linha,a],std_erros.loc[linha,a],media_erros.loc[linha,b],std_erros.loc[linha,b]),a,b]]), columns=[\"diferença\",\"melhor\",\"segundo melhor\"])\n"
      ],
      "metadata": {
        "id": "ofkzpEafvpiE"
      },
      "execution_count": null,
      "outputs": []
    },
    {
      "cell_type": "markdown",
      "source": [
        "aqui são computadas as diferenças absolutas e mostrados quais métodos estão sendo comparados para cada dataset."
      ],
      "metadata": {
        "id": "muQo4uhcWklB"
      }
    },
    {
      "cell_type": "code",
      "source": [
        "resultados = resultado(scores,media_erros,std_erros,0)\n",
        "\n",
        "for j in range(1,len(scores)):\n",
        "  resultados=resultados.append(resultado(scores,media_erros,std_erros,j), ignore_index = True)\n",
        "\n",
        "resultados"
      ],
      "metadata": {
        "colab": {
          "base_uri": "https://localhost:8080/",
          "height": 363
        },
        "id": "WMYYcX0Y1FrN",
        "outputId": "e021610d-251f-4096-8d22-a1664734db74"
      },
      "execution_count": null,
      "outputs": [
        {
          "output_type": "execute_result",
          "data": {
            "text/plain": [
              "              diferença       melhor segundo melhor\n",
              "0                   0.0          mlp            knn\n",
              "1   -0.2721655269759088          mlp            knn\n",
              "2  -0.13825896467801302          mlp    naive bayes\n",
              "3   -1.3093073414159542  naive bayes            mlp\n",
              "4    -0.343179540570772          mlp           tree\n",
              "5    -2.958090735826121          mlp            knn\n",
              "6    -4.445440332541168          mlp           tree\n",
              "7   -0.6732218206824887          mlp            knn\n",
              "8  -0.18807863442359812         tree            knn\n",
              "9   -1.1037474632451156         tree            mlp"
            ],
            "text/html": [
              "\n",
              "  <div id=\"df-afe35ede-aa17-4709-aa62-bbcfc0e148fd\">\n",
              "    <div class=\"colab-df-container\">\n",
              "      <div>\n",
              "<style scoped>\n",
              "    .dataframe tbody tr th:only-of-type {\n",
              "        vertical-align: middle;\n",
              "    }\n",
              "\n",
              "    .dataframe tbody tr th {\n",
              "        vertical-align: top;\n",
              "    }\n",
              "\n",
              "    .dataframe thead th {\n",
              "        text-align: right;\n",
              "    }\n",
              "</style>\n",
              "<table border=\"1\" class=\"dataframe\">\n",
              "  <thead>\n",
              "    <tr style=\"text-align: right;\">\n",
              "      <th></th>\n",
              "      <th>diferença</th>\n",
              "      <th>melhor</th>\n",
              "      <th>segundo melhor</th>\n",
              "    </tr>\n",
              "  </thead>\n",
              "  <tbody>\n",
              "    <tr>\n",
              "      <th>0</th>\n",
              "      <td>0.0</td>\n",
              "      <td>mlp</td>\n",
              "      <td>knn</td>\n",
              "    </tr>\n",
              "    <tr>\n",
              "      <th>1</th>\n",
              "      <td>-0.2721655269759088</td>\n",
              "      <td>mlp</td>\n",
              "      <td>knn</td>\n",
              "    </tr>\n",
              "    <tr>\n",
              "      <th>2</th>\n",
              "      <td>-0.13825896467801302</td>\n",
              "      <td>mlp</td>\n",
              "      <td>naive bayes</td>\n",
              "    </tr>\n",
              "    <tr>\n",
              "      <th>3</th>\n",
              "      <td>-1.3093073414159542</td>\n",
              "      <td>naive bayes</td>\n",
              "      <td>mlp</td>\n",
              "    </tr>\n",
              "    <tr>\n",
              "      <th>4</th>\n",
              "      <td>-0.343179540570772</td>\n",
              "      <td>mlp</td>\n",
              "      <td>tree</td>\n",
              "    </tr>\n",
              "    <tr>\n",
              "      <th>5</th>\n",
              "      <td>-2.958090735826121</td>\n",
              "      <td>mlp</td>\n",
              "      <td>knn</td>\n",
              "    </tr>\n",
              "    <tr>\n",
              "      <th>6</th>\n",
              "      <td>-4.445440332541168</td>\n",
              "      <td>mlp</td>\n",
              "      <td>tree</td>\n",
              "    </tr>\n",
              "    <tr>\n",
              "      <th>7</th>\n",
              "      <td>-0.6732218206824887</td>\n",
              "      <td>mlp</td>\n",
              "      <td>knn</td>\n",
              "    </tr>\n",
              "    <tr>\n",
              "      <th>8</th>\n",
              "      <td>-0.18807863442359812</td>\n",
              "      <td>tree</td>\n",
              "      <td>knn</td>\n",
              "    </tr>\n",
              "    <tr>\n",
              "      <th>9</th>\n",
              "      <td>-1.1037474632451156</td>\n",
              "      <td>tree</td>\n",
              "      <td>mlp</td>\n",
              "    </tr>\n",
              "  </tbody>\n",
              "</table>\n",
              "</div>\n",
              "      <button class=\"colab-df-convert\" onclick=\"convertToInteractive('df-afe35ede-aa17-4709-aa62-bbcfc0e148fd')\"\n",
              "              title=\"Convert this dataframe to an interactive table.\"\n",
              "              style=\"display:none;\">\n",
              "        \n",
              "  <svg xmlns=\"http://www.w3.org/2000/svg\" height=\"24px\"viewBox=\"0 0 24 24\"\n",
              "       width=\"24px\">\n",
              "    <path d=\"M0 0h24v24H0V0z\" fill=\"none\"/>\n",
              "    <path d=\"M18.56 5.44l.94 2.06.94-2.06 2.06-.94-2.06-.94-.94-2.06-.94 2.06-2.06.94zm-11 1L8.5 8.5l.94-2.06 2.06-.94-2.06-.94L8.5 2.5l-.94 2.06-2.06.94zm10 10l.94 2.06.94-2.06 2.06-.94-2.06-.94-.94-2.06-.94 2.06-2.06.94z\"/><path d=\"M17.41 7.96l-1.37-1.37c-.4-.4-.92-.59-1.43-.59-.52 0-1.04.2-1.43.59L10.3 9.45l-7.72 7.72c-.78.78-.78 2.05 0 2.83L4 21.41c.39.39.9.59 1.41.59.51 0 1.02-.2 1.41-.59l7.78-7.78 2.81-2.81c.8-.78.8-2.07 0-2.86zM5.41 20L4 18.59l7.72-7.72 1.47 1.35L5.41 20z\"/>\n",
              "  </svg>\n",
              "      </button>\n",
              "      \n",
              "  <style>\n",
              "    .colab-df-container {\n",
              "      display:flex;\n",
              "      flex-wrap:wrap;\n",
              "      gap: 12px;\n",
              "    }\n",
              "\n",
              "    .colab-df-convert {\n",
              "      background-color: #E8F0FE;\n",
              "      border: none;\n",
              "      border-radius: 50%;\n",
              "      cursor: pointer;\n",
              "      display: none;\n",
              "      fill: #1967D2;\n",
              "      height: 32px;\n",
              "      padding: 0 0 0 0;\n",
              "      width: 32px;\n",
              "    }\n",
              "\n",
              "    .colab-df-convert:hover {\n",
              "      background-color: #E2EBFA;\n",
              "      box-shadow: 0px 1px 2px rgba(60, 64, 67, 0.3), 0px 1px 3px 1px rgba(60, 64, 67, 0.15);\n",
              "      fill: #174EA6;\n",
              "    }\n",
              "\n",
              "    [theme=dark] .colab-df-convert {\n",
              "      background-color: #3B4455;\n",
              "      fill: #D2E3FC;\n",
              "    }\n",
              "\n",
              "    [theme=dark] .colab-df-convert:hover {\n",
              "      background-color: #434B5C;\n",
              "      box-shadow: 0px 1px 3px 1px rgba(0, 0, 0, 0.15);\n",
              "      filter: drop-shadow(0px 1px 2px rgba(0, 0, 0, 0.3));\n",
              "      fill: #FFFFFF;\n",
              "    }\n",
              "  </style>\n",
              "\n",
              "      <script>\n",
              "        const buttonEl =\n",
              "          document.querySelector('#df-afe35ede-aa17-4709-aa62-bbcfc0e148fd button.colab-df-convert');\n",
              "        buttonEl.style.display =\n",
              "          google.colab.kernel.accessAllowed ? 'block' : 'none';\n",
              "\n",
              "        async function convertToInteractive(key) {\n",
              "          const element = document.querySelector('#df-afe35ede-aa17-4709-aa62-bbcfc0e148fd');\n",
              "          const dataTable =\n",
              "            await google.colab.kernel.invokeFunction('convertToInteractive',\n",
              "                                                     [key], {});\n",
              "          if (!dataTable) return;\n",
              "\n",
              "          const docLinkHtml = 'Like what you see? Visit the ' +\n",
              "            '<a target=\"_blank\" href=https://colab.research.google.com/notebooks/data_table.ipynb>data table notebook</a>'\n",
              "            + ' to learn more about interactive tables.';\n",
              "          element.innerHTML = '';\n",
              "          dataTable['output_type'] = 'display_data';\n",
              "          await google.colab.output.renderOutput(dataTable, element);\n",
              "          const docLink = document.createElement('div');\n",
              "          docLink.innerHTML = docLinkHtml;\n",
              "          element.appendChild(docLink);\n",
              "        }\n",
              "      </script>\n",
              "    </div>\n",
              "  </div>\n",
              "  "
            ]
          },
          "metadata": {},
          "execution_count": 155
        }
      ]
    }
  ]
}